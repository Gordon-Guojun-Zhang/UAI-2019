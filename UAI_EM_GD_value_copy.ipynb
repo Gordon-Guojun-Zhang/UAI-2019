{
 "cells": [
  {
   "cell_type": "markdown",
   "metadata": {},
   "source": [
    "## Comparing EM with GD"
   ]
  },
  {
   "cell_type": "markdown",
   "metadata": {},
   "source": [
    "### First, we set up by choosing the number of clusters $m$, the number of features $n$, and generate samples by use of a BMM with random parameters. The goal is to recover this setting. The sample set is $S$, which is a dictionary containing binary strings $x$. Notice that replicates are gathered together to save space."
   ]
  },
  {
   "cell_type": "code",
   "execution_count": 43,
   "metadata": {},
   "outputs": [],
   "source": [
    "import nbm\n",
    "import numpy as np\n",
    "m = 2  # number of classes\n",
    "n = 10 # number of features\n",
    "samples = 2**20 # sample size\n",
    "# generate the parameters"
   ]
  },
  {
   "cell_type": "code",
   "execution_count": 47,
   "metadata": {},
   "outputs": [
    {
     "name": "stdout",
     "output_type": "stream",
     "text": [
      "CPU times: user 3 µs, sys: 1 µs, total: 4 µs\n",
      "Wall time: 8.34 µs\n"
     ]
    }
   ],
   "source": [
    "[gtheta, gPhi] = nbm.randInt(m, n)\n",
    "total = np.zeros(n)\n",
    "ct = 0\n",
    "# generate samples\n",
    "S = dict()\n",
    "for _ in range(2**n):    # the sample space\n",
    "# compute the probability\n",
    "    x = nbm.decToBits(_, n)   # convert decimal to binary\n",
    "    prob = 0.0\n",
    "    for __ in range(m):\n",
    "        prob += gtheta[__] * nbm.bern_n(x, gPhi[__, :], n) \n",
    "    S[_] = prob * samples"
   ]
  },
  {
   "cell_type": "code",
   "execution_count": 29,
   "metadata": {},
   "outputs": [
    {
     "data": {
      "text/plain": [
       "array([0.497, 0.503])"
      ]
     },
     "execution_count": 29,
     "metadata": {},
     "output_type": "execute_result"
    }
   ],
   "source": [
    "[theta, Phi] = nbm.randInt(m, n)\n",
    "theta"
   ]
  },
  {
   "cell_type": "code",
   "execution_count": 40,
   "metadata": {},
   "outputs": [
    {
     "name": "stdout",
     "output_type": "stream",
     "text": [
      " "
     ]
    }
   ],
   "source": [
    "%prun [ell2, theta, Phi, iterId] = nbm.gradientDescent(n, samples, S, theta, Phi, numIterations=10000, alpha = 0.02, tolerance = 1e-7)"
   ]
  },
  {
   "cell_type": "code",
   "execution_count": null,
   "metadata": {
    "scrolled": false
   },
   "outputs": [
    {
     "name": "stdout",
     "output_type": "stream",
     "text": [
      "m, n: 6 3\n",
      "GD/EM:  0.9999998906602485 count:  0\n",
      "GD/opt:  0.9999999968348123\n",
      "EM/opt:  1.0000001061745754\n",
      "GD/EM:  1.0000002165056028 count:  1\n",
      "GD/opt:  0.999999958484312\n",
      "EM/opt:  0.9999997419787652\n",
      "GD/EM:  1.0000002138879993 count:  2\n",
      "GD/opt:  0.9999999987102222\n",
      "EM/opt:  0.9999997848222689\n",
      "GD/EM:  0.9999995486800163 count:  3\n",
      "GD/opt:  0.9999999999999445\n",
      "EM/opt:  1.000000451320132\n",
      "GD/EM:  1.0000000550367585 count:  4\n",
      "GD/opt:  0.9999999999999636\n",
      "EM/opt:  0.9999999449632082\n",
      "GD/EM:  1.0000002845820208 count:  5\n",
      "GD/opt:  0.9999999999999647\n",
      "EM/opt:  0.9999997154180248\n",
      "GD/EM:  1.0000003723898625 count:  6\n",
      "GD/opt:  0.999999999999909\n",
      "EM/opt:  0.9999996276101851\n",
      "GD/EM:  0.9999999612601101 count:  7\n",
      "GD/opt:  0.999999999997994\n",
      "EM/opt:  1.0000000387378853\n",
      "GD/EM:  1.0000001320300607 count:  8\n",
      "GD/opt:  0.9999999999999163\n",
      "EM/opt:  0.9999998679698731\n",
      "GD/EM:  0.9999998279244969 count:  9\n",
      "GD/opt:  0.9999999999999121\n",
      "EM/opt:  1.0000001720754448\n",
      "GD/EM:  1.0000002150180556 count:  10\n",
      "GD/opt:  0.9999999999999414\n",
      "EM/opt:  0.999999784981932\n",
      "GD/EM:  0.9999996000359515 count:  11\n",
      "GD/opt:  0.9999999999999818\n",
      "EM/opt:  1.0000003999641902\n",
      "GD/EM:  0.9999999877020013 count:  12\n",
      "GD/opt:  0.9999999999999292\n",
      "EM/opt:  1.000000012297928\n",
      "GD/EM:  0.9999999162192039 count:  13\n",
      "GD/opt:  0.9999999999999114\n",
      "EM/opt:  1.0000000837807146\n",
      "GD/EM:  1.0000001841490809 count:  14\n",
      "GD/opt:  0.9999999404376352\n",
      "EM/opt:  0.999999756288599\n",
      "GD/EM:  1.0000000580320059 count:  15\n",
      "GD/opt:  0.9999999999999318\n",
      "EM/opt:  0.9999999419679294\n",
      "GD/EM:  0.9999998963921373 count:  16\n",
      "GD/opt:  0.9999999999876819\n",
      "EM/opt:  1.0000001035955552\n",
      "GD/EM:  0.9999995219233674 count:  17\n",
      "GD/opt:  0.9999999999999889\n",
      "EM/opt:  1.00000047807685\n",
      "GD/EM:  0.9999997509005573 count:  18\n",
      "GD/opt:  0.9999998400679403\n",
      "EM/opt:  1.0000000891674052\n",
      "GD/EM:  0.9999998932526714 count:  19\n",
      "GD/opt:  0.9999999999999178\n",
      "EM/opt:  1.000000106747258\n",
      "GD/EM:  0.9999999373937971 count:  20\n",
      "GD/opt:  0.9999999999999267\n",
      "EM/opt:  1.0000000626061336\n",
      "GD/EM:  0.9999997342272919 count:  21\n",
      "GD/opt:  0.9999999990474333\n",
      "EM/opt:  1.0000002648202118\n",
      "GD/EM:  0.9999996694137034 count:  22\n",
      "GD/opt:  0.9999999999999543\n",
      "EM/opt:  1.00000033058636\n",
      "GD/EM:  1.0000004300070358 count:  23\n",
      "GD/opt:  0.9999999999064704\n",
      "EM/opt:  0.9999995698996195\n",
      "GD/EM:  0.9999995963829695 count:  24\n",
      "GD/opt:  0.9999999999998939\n",
      "EM/opt:  1.0000004036170873\n",
      "GD/EM:  0.999999889001857 count:  25\n",
      "GD/opt:  0.9999999999999798\n",
      "EM/opt:  1.0000001109981351\n",
      "GD/EM:  0.9999995752375045 count:  26\n",
      "GD/opt:  0.9999999999999696\n",
      "EM/opt:  1.0000004247626455\n",
      "GD/EM:  0.9999624057633892 count:  27\n",
      "GD/opt:  0.9999623701609365\n",
      "EM/opt:  0.9999999643962088\n",
      "GD/EM:  1.0000001007197932 count:  28\n",
      "GD/opt:  0.9999999998434741\n",
      "EM/opt:  0.9999998991236911\n",
      "GD/EM:  1.0000003866843787 count:  29\n",
      "GD/opt:  0.9999999999999734\n",
      "EM/opt:  0.9999996133157442\n",
      "GD/EM:  0.9999998507264436 count:  30\n",
      "GD/opt:  0.9999999999999367\n",
      "EM/opt:  1.0000001492735153\n",
      "GD/EM:  0.9999991451237916 count:  31\n",
      "GD/opt:  0.9999999999999956\n",
      "EM/opt:  1.0000008548769348\n",
      "GD/EM:  0.999999884036978 count:  32\n",
      "GD/opt:  0.9999999991438226\n",
      "EM/opt:  1.000000115106858\n",
      "GD/EM:  0.9999998318515139 count:  33\n",
      "GD/opt:  0.9999999999999516\n",
      "EM/opt:  1.000000168148466\n",
      "GD/EM:  0.9999998100084747 count:  34\n",
      "GD/opt:  0.9999999999999911\n",
      "EM/opt:  1.0000001899915525\n",
      "GD/EM:  0.9999138051581088 count:  35\n",
      "GD/opt:  0.9999136036978069\n",
      "EM/opt:  0.9999997985223318\n",
      "GD/EM:  0.999999816884816 count:  36\n",
      "GD/opt:  0.9999999999999525\n",
      "EM/opt:  1.0000001831151701\n",
      "GD/EM:  0.9999994943819882 count:  37\n",
      "GD/opt:  0.9999999999999751\n",
      "EM/opt:  1.0000005056182426\n",
      "GD/EM:  0.9999989716935491 count:  38\n",
      "GD/opt:  0.9999992560971163\n",
      "EM/opt:  1.0000002844038596\n",
      "GD/EM:  0.9999998632220364 count:  39\n",
      "GD/opt:  0.9999999999999805\n",
      "EM/opt:  1.0000001367779627\n",
      "GD/EM:  1.0000002560761128 count:  40\n",
      "GD/opt:  0.9999999999998173\n",
      "EM/opt:  0.9999997439237701\n",
      "GD/EM:  0.9999998038398313 count:  41\n",
      "GD/opt:  0.9999999999999478\n",
      "EM/opt:  1.000000196160155\n",
      "GD/EM:  0.9999998321488267 count:  42\n",
      "GD/opt:  0.9999999999996161\n",
      "EM/opt:  1.0000001678508175\n",
      "GD/EM:  1.0000000886932208 count:  43\n",
      "GD/opt:  0.9999999999999367\n",
      "EM/opt:  0.9999999113067238\n",
      "GD/EM:  0.9999999553796589 count:  44\n",
      "GD/opt:  0.9999999998376774\n",
      "EM/opt:  1.0000000444580204\n",
      "GD/EM:  1.0000000114342975 count:  45\n",
      "GD/opt:  0.999999999999988\n",
      "EM/opt:  0.9999999885656906\n",
      "GD/EM:  1.0000000706725007 count:  46\n",
      "GD/opt:  0.9999999999999776\n",
      "EM/opt:  0.9999999293274817\n",
      "GD/EM:  0.9999999229169335 count:  47\n",
      "GD/opt:  0.9999999999999809\n",
      "EM/opt:  1.0000000770830533\n",
      "GD/EM:  1.0000001928187296 count:  48\n",
      "GD/opt:  0.9999999999999241\n",
      "EM/opt:  0.9999998071812316\n",
      "GD/EM:  0.9999997651102368 count:  49\n",
      "GD/opt:  0.9999999999999793\n",
      "EM/opt:  1.0000002348897976\n",
      "GD/EM:  1.0000001607419509 count:  50\n",
      "GD/opt:  0.9999999971314897\n",
      "EM/opt:  0.9999998363895651\n",
      "GD/EM:  0.9999964486179495 count:  51\n",
      "GD/opt:  0.9999962964353558\n",
      "EM/opt:  0.9999998478168659\n",
      "GD/EM:  0.999999565479448 count:  52\n",
      "GD/opt:  0.9999999999999447\n",
      "EM/opt:  1.0000004345206854\n",
      "GD/EM:  0.9999999180175567 count:  53\n",
      "GD/opt:  0.9999999999999869\n",
      "EM/opt:  1.0000000819824368\n",
      "GD/EM:  1.0000000103894149 count:  54\n",
      "GD/opt:  0.9999999999999676\n",
      "EM/opt:  0.9999999896105527\n",
      "GD/EM:  0.99999995488852 count:  55\n",
      "GD/opt:  0.9999999999999403\n",
      "EM/opt:  1.0000000451114224\n",
      "GD/EM:  1.000000119964258 count:  56\n",
      "GD/opt:  0.9999996921496183\n",
      "EM/opt:  0.9999995721854114\n",
      "GD/EM:  0.999999228713072 count:  57\n",
      "GD/opt:  0.99999999999998\n",
      "EM/opt:  1.000000771287503\n",
      "GD/EM:  0.9999999589349717 count:  58\n",
      "GD/opt:  0.999999999996724\n",
      "EM/opt:  1.000000041061754\n"
     ]
    }
   ],
   "source": [
    "sum_ratio = 0\n",
    "count = 0\n",
    "print(\"m, n:\", m, n)\n",
    "for __ in range(200):\n",
    "    [gtheta, gPhi] = nbm.randInt(m, n)\n",
    "    total = np.zeros(n)\n",
    "    ct = 0\n",
    "    # generate samples\n",
    "    S = dict()\n",
    "    for _ in range(2**n):    # the sample space\n",
    "    # compute the probability\n",
    "        x = nbm.decToBits(_, n)   # convert decimal to binary\n",
    "        prob = 0.0\n",
    "        for __ in range(m):\n",
    "            prob += gtheta[__] * nbm.bern_n(x, gPhi[__, :], n) \n",
    "        S[_] = prob * samples\n",
    "    # EM\n",
    "    ell0 = nbm.ell(n, gPhi, gtheta, S, samples)\n",
    "    [theta, Phi] = nbm.randInt(m, n)\n",
    "    [theta1, Phi1] = nbm.em(n, m, samples, S, theta, Phi)\n",
    "    ell1 = nbm.ell(n, Phi1, theta1, S, samples)\n",
    "    # GD\n",
    "    find_k = 0   # if a k-cluster point is found\n",
    "    for _ in range(10):\n",
    "        [theta, Phi] = nbm.randInt(m, n)\n",
    "        [ell2, theta, Phi, iterId] = nbm.gradientDescent(n, samples, S, theta, Phi, numIterations=10000, alpha = 0.02, tolerance = 1e-7)\n",
    "        if min(theta) < 0.0005:\n",
    "            find_k = 1\n",
    "            break\n",
    "    if find_k == 1:\n",
    "        ratio = np.exp(ell1 - ell2)\n",
    "        print(\"GD/EM: \", ratio, \"count: \", count)\n",
    "        print(\"GD/opt: \", np.exp(ell0 - ell2))\n",
    "        print(\"EM/opt: \", np.exp(ell0 - ell1))\n",
    "  #      [rand_theta, rand_Phi] = nbm.randInt(m, n)\n",
    "  #      ell_rand = nbm.ell(n, rand_Phi, rand_theta, S, samples)\n",
    " #       print(\"rand/opt: \", np.exp(ell0 - ell_rand))\n",
    "        sum_ratio += ratio \n",
    "        count += 1\n",
    "    if count == 60:    # if collected 60 points\n",
    "        print(\"avg ratio: \", sum_ratio / count)\n",
    "        break"
   ]
  },
  {
   "cell_type": "code",
   "execution_count": 26,
   "metadata": {
    "scrolled": false
   },
   "outputs": [
    {
     "data": {
      "text/plain": [
       "(5, 3)"
      ]
     },
     "execution_count": 26,
     "metadata": {},
     "output_type": "execute_result"
    }
   ],
   "source": [
    "(m, n)"
   ]
  }
 ],
 "metadata": {
  "kernelspec": {
   "display_name": "Python 3",
   "language": "python",
   "name": "python3"
  },
  "language_info": {
   "codemirror_mode": {
    "name": "ipython",
    "version": 3
   },
   "file_extension": ".py",
   "mimetype": "text/x-python",
   "name": "python",
   "nbconvert_exporter": "python",
   "pygments_lexer": "ipython3",
   "version": "3.7.0"
  }
 },
 "nbformat": 4,
 "nbformat_minor": 2
}
