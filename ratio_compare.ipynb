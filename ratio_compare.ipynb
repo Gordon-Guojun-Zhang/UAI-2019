{
 "cells": [
  {
   "cell_type": "markdown",
   "metadata": {},
   "source": [
    "## Comparing EM with GD"
   ]
  },
  {
   "cell_type": "markdown",
   "metadata": {},
   "source": [
    "### First, we set up by choosing the number of clusters $m$, the number of features $n$, and generate samples by use of a BMM with random parameters. The goal is to recover this setting. The sample set is $S$, which is a dictionary containing binary strings $x$. Notice that replicates are gathered together to save space."
   ]
  },
  {
   "cell_type": "code",
   "execution_count": 12,
   "metadata": {},
   "outputs": [],
   "source": [
    "import nbm\n",
    "import numpy as np\n",
    "m = 3  # number of classes\n",
    "n = 5 # number of features\n",
    "samples = 2**20 # sample size\n",
    "# generate the parameters"
   ]
  },
  {
   "cell_type": "markdown",
   "metadata": {},
   "source": [
    "### Try 200 iterations. For each iteration, generate samples; use EM to learn the parameters and compute the ratio; and use GD to find k-cluster points. Compute the ratios of the likelihoods. "
   ]
  },
  {
   "cell_type": "code",
   "execution_count": 15,
   "metadata": {
    "scrolled": true
   },
   "outputs": [
    {
     "name": "stdout",
     "output_type": "stream",
     "text": [
      "m, n: 3 5\n",
      "GD converges at  445 steps\n",
      "GD/EM:  0.9927920186089064 count:  0\n",
      "GD/opt:  0.9927921609730024\n",
      "EM/opt:  1.000000143397704\n",
      "count:  1\n",
      "GD converges at  399 steps\n",
      "GD converges at  401 steps\n",
      "GD converges at  849 steps\n",
      "GD converges at  415 steps\n",
      "GD/EM:  0.9983263397463682 count:  1\n",
      "GD/opt:  0.9983263267510081\n",
      "EM/opt:  0.9999999869828536\n",
      "count:  2\n",
      "GD converges at  1321 steps\n",
      "GD converges at  664 steps\n",
      "GD converges at  1005 steps\n",
      "GD converges at  2677 steps\n",
      "GD converges at  1893 steps\n",
      "GD converges at  1684 steps\n",
      "GD/EM:  0.9972603852179658 count:  2\n",
      "GD/opt:  0.9972606180823889\n",
      "EM/opt:  1.0000002335041345\n",
      "count:  3\n",
      "GD converges at  965 steps\n",
      "GD converges at  792 steps\n",
      "GD/EM:  0.9730725591661532 count:  3\n",
      "GD/opt:  0.9730740252809377\n",
      "EM/opt:  1.0000015066859822\n",
      "count:  4\n",
      "GD converges at  1011 steps\n",
      "GD converges at  1136 steps\n",
      "GD converges at  1452 steps\n",
      "GD converges at  682 steps\n",
      "GD converges at  938 steps\n",
      "GD/EM:  0.9901704408600936 count:  4\n",
      "GD/opt:  0.9901712907321689\n",
      "EM/opt:  1.000000858308873\n",
      "count:  5\n",
      "GD converges at  887 steps\n",
      "GD converges at  1482 steps\n",
      "GD converges at  490 steps\n",
      "GD converges at  1237 steps\n",
      "GD/EM:  0.9701320403587885 count:  5\n",
      "GD/opt:  0.97013248145313\n",
      "EM/opt:  1.0000004546745425\n",
      "count:  6\n",
      "GD converges at  1076 steps\n",
      "GD converges at  3755 steps\n",
      "GD converges at  1001 steps\n",
      "GD converges at  570 steps\n",
      "GD converges at  853 steps\n",
      "GD/EM:  0.9969786904762052 count:  6\n",
      "GD/opt:  0.9969787438596569\n",
      "EM/opt:  1.0000000535452283\n",
      "count:  7\n",
      "GD converges at  1226 steps\n",
      "GD converges at  3061 steps\n",
      "GD converges at  650 steps\n",
      "GD converges at  705 steps\n",
      "GD/EM:  0.9851134839465412 count:  7\n",
      "GD/opt:  0.9851123481025348\n",
      "EM/opt:  0.9999988469917173\n",
      "count:  8\n",
      "GD converges at  832 steps\n",
      "GD/EM:  0.8314761095775764 count:  8\n",
      "GD/opt:  0.8314760523168891\n",
      "EM/opt:  0.999999931133695\n",
      "count:  9\n",
      "GD converges at  1771 steps\n",
      "GD converges at  1325 steps\n",
      "GD converges at  3190 steps\n",
      "GD converges at  890 steps\n",
      "GD/EM:  0.993238084387014 count:  9\n",
      "GD/opt:  0.9932366589744527\n",
      "EM/opt:  0.9999985648833006\n",
      "count:  10\n"
     ]
    }
   ],
   "source": [
    "ratios = np.zeros(10)\n",
    "count = 0\n",
    "print(\"m, n:\", m, n)\n",
    "for __ in range(200):\n",
    "    [gtheta, gPhi] = nbm.randInt(m, n)\n",
    "    total = np.zeros(n)\n",
    "    ct = 0\n",
    "    # generate samples\n",
    "    S = dict()\n",
    "    for _ in range(2**n):    # the sample space\n",
    "    # compute the probability\n",
    "        x = nbm.decToBits(_, n)   # convert decimal to binary\n",
    "        prob = 0.0\n",
    "        for __ in range(m):\n",
    "            prob += gtheta[__] * nbm.bern_n(x, gPhi[__, :], n) \n",
    "        S[_] = prob * samples\n",
    "    # EM\n",
    "    ell0 = nbm.ell(n, gPhi, gtheta, S, samples)\n",
    "    [theta, Phi] = nbm.randInt(m, n)\n",
    "    [theta1, Phi1] = nbm.em(n, m, samples, S, theta, Phi)\n",
    "    ell1 = nbm.ell(n, Phi1, theta1, S, samples)\n",
    "    # GD\n",
    "    find_k = 0   # if a k-cluster point is found\n",
    "    for _ in range(10):\n",
    "        [theta, Phi] = nbm.randInt(m, n)\n",
    "        [ell2, theta, Phi, iterId] = nbm.gradientDescent(n, samples, S, theta, Phi, numIterations=4000, alpha = 0.02, tolerance = 1e-4)\n",
    "        if min(theta) < 0.0005:\n",
    "            find_k = 1\n",
    "            break\n",
    "    # if a k-cluster point is found\n",
    "    if find_k == 1:\n",
    "        ratio = np.exp(ell1 - ell2)\n",
    "        print(\"GD/EM: \", ratio, \"count: \", count)\n",
    "        print(\"GD/opt: \", np.exp(ell0 - ell2))\n",
    "        print(\"EM/opt: \", np.exp(ell0 - ell1))\n",
    "  #      [rand_theta, rand_Phi] = nbm.randInt(m, n)\n",
    "  #      ell_rand = nbm.ell(n, rand_Phi, rand_theta, S, samples)\n",
    " #       print(\"rand/opt: \", np.exp(ell0 - ell_rand))\n",
    "        ratios[count] = ratio\n",
    "        count += 1\n",
    "        print(\"count: \", count)\n",
    "    if count == 10:    # if collected 10 points\n",
    "        break"
   ]
  },
  {
   "cell_type": "markdown",
   "metadata": {},
   "source": [
    "### Compute worst-case ratio and average ratio"
   ]
  },
  {
   "cell_type": "code",
   "execution_count": 20,
   "metadata": {},
   "outputs": [
    {
     "name": "stdout",
     "output_type": "stream",
     "text": [
      "number of cluster:  3 number of features:  5\n",
      "min_ratio:  0.8314761095775764\n",
      "avg_ratio:  0.9728560152345611\n"
     ]
    }
   ],
   "source": [
    "print(\"number of cluster: \", m, \"number of features: \", n)\n",
    "print(\"min_ratio: \", min(ratios))\n",
    "print(\"avg_ratio: \", np.sum(ratios)/10)"
   ]
  }
 ],
 "metadata": {
  "kernelspec": {
   "display_name": "Python 3",
   "language": "python",
   "name": "python3"
  },
  "language_info": {
   "codemirror_mode": {
    "name": "ipython",
    "version": 3
   },
   "file_extension": ".py",
   "mimetype": "text/x-python",
   "name": "python",
   "nbconvert_exporter": "python",
   "pygments_lexer": "ipython3",
   "version": "3.7.1"
  }
 },
 "nbformat": 4,
 "nbformat_minor": 2
}
