{
 "cells": [
  {
   "cell_type": "markdown",
   "metadata": {},
   "source": [
    "# Comparing EM with GD for Gaussian mixtures (initialized from a one-cluster point)"
   ]
  },
  {
   "cell_type": "code",
   "execution_count": 111,
   "metadata": {},
   "outputs": [],
   "source": [
    "## choosing parameters for mixture of gaussians\n",
    "import numpy as np\n",
    "m = n = 2\n",
    "gPi = np.random.rand(m)\n",
    "gPi = gPi / np.sum(gPi)\n",
    "gMu = np.random.rand(m, n) * 2\n",
    "gMu[1] = -gMu[0]"
   ]
  },
  {
   "cell_type": "code",
   "execution_count": 113,
   "metadata": {},
   "outputs": [],
   "source": [
    "# choosing the number of samples\n",
    "samples = 10000\n",
    "data = np.zeros((samples, 2))\n",
    "# sampling from the generating distribution\n",
    "for _ in range(samples):\n",
    "    t = np.random.rand()\n",
    "    if t < gPi[0]:\n",
    "        data[_] = np.random.multivariate_normal(gMu[0], np.eye(n), 1)\n",
    "    else:\n",
    "        data[_] = np.random.multivariate_normal(gMu[1], np.eye(n), 1)"
   ]
  },
  {
   "cell_type": "code",
   "execution_count": 114,
   "metadata": {},
   "outputs": [],
   "source": [
    "# def a multivariate gaussian with identity covariance\n",
    "def gaussian(x, y, n):\n",
    "    result = 1.0\n",
    "    for _ in range(n):\n",
    "        result *= np.exp(-(x[_] - y[_])**2/2.0)\n",
    "    return result"
   ]
  },
  {
   "cell_type": "code",
   "execution_count": 116,
   "metadata": {},
   "outputs": [],
   "source": [
    "# def a mixture of Gaussians\n",
    "def gmm(pi, Mu, x, m, n):\n",
    "    result = 0.0\n",
    "    for _ in range(m):\n",
    "       result += pi[_] * gaussian(x, Mu[_], n)  \n",
    "    return result"
   ]
  },
  {
   "cell_type": "code",
   "execution_count": 151,
   "metadata": {},
   "outputs": [],
   "source": [
    "# initial parameters\n",
    "iPi = np.array([0.0001, 0.9999])\n",
    "iMu = (np.random.rand(m, n) * 2 - 1)\n",
    "# running parameters\n",
    "Pi = np.copy(iPi)\n",
    "Mu = np.copy(iMu)"
   ]
  },
  {
   "cell_type": "markdown",
   "metadata": {},
   "source": [
    "## EM algorithm"
   ]
  },
  {
   "cell_type": "code",
   "execution_count": 152,
   "metadata": {
    "scrolled": true
   },
   "outputs": [
    {
     "name": "stdout",
     "output_type": "stream",
     "text": [
      "Zc:  [3.827  0.9997] Pi:  [0.0001 0.9999]\n",
      "Zc:  [1.4219 0.9998] Pi:  [0.0004 0.9996]\n",
      "Zc:  [1.8139 0.9996] Pi:  [0.0005 0.9995]\n",
      "Zc:  [2.2262 0.9988] Pi:  [0.001 0.999]\n",
      "Zc:  [2.1513 0.9975] Pi:  [0.0022 0.9978]\n",
      "Zc:  [1.8178 0.9961] Pi:  [0.0047 0.9953]\n",
      "Zc:  [1.5963 0.9948] Pi:  [0.0086 0.9914]\n",
      "Zc:  [1.4608 0.9936] Pi:  [0.0137 0.9863]\n",
      "Zc:  [1.3702 0.9924] Pi:  [0.02 0.98]\n",
      "Zc:  [1.306  0.9914] Pi:  [0.0275 0.9725]\n",
      "Zc:  [1.2584 0.9904] Pi:  [0.0359 0.9641]\n",
      "Zc:  [1.2219 0.9895] Pi:  [0.0451 0.9549]\n",
      "Zc:  [1.1931 0.9887] Pi:  [0.0551 0.9449]\n",
      "Zc:  [1.1698 0.988 ] Pi:  [0.0658 0.9342]\n",
      "Zc:  [1.1506 0.9874] Pi:  [0.077 0.923]\n",
      "Zc:  [1.1345 0.9869] Pi:  [0.0885 0.9115]\n",
      "Zc:  [1.1209 0.9865] Pi:  [0.1004 0.8996]\n",
      "Zc:  [1.1093 0.9861] Pi:  [0.1126 0.8874]\n",
      "Zc:  [1.0992 0.9858] Pi:  [0.1249 0.8751]\n",
      "Zc:  [1.0905 0.9856] Pi:  [0.1373 0.8627]\n",
      "Zc:  [1.0828 0.9854] Pi:  [0.1497 0.8503]\n",
      "Zc:  [1.076  0.9853] Pi:  [0.1621 0.8379]\n",
      "Zc:  [1.07   0.9852] Pi:  [0.1744 0.8256]\n",
      "Zc:  [1.0647 0.9852] Pi:  [0.1866 0.8134]\n",
      "Zc:  [1.0599 0.9851] Pi:  [0.1987 0.8013]\n",
      "Zc:  [1.0556 0.9852] Pi:  [0.2106 0.7894]\n",
      "Zc:  [1.0517 0.9852] Pi:  [0.2223 0.7777]\n",
      "Zc:  [1.0482 0.9853] Pi:  [0.2338 0.7662]\n",
      "Zc:  [1.045  0.9854] Pi:  [0.2451 0.7549]\n",
      "Zc:  [1.0421 0.9855] Pi:  [0.2561 0.7439]\n",
      "Zc:  [1.0394 0.9857] Pi:  [0.2669 0.7331]\n",
      "Zc:  [1.0369 0.9858] Pi:  [0.2774 0.7226]\n",
      "Zc:  [1.0347 0.986 ] Pi:  [0.2876 0.7124]\n",
      "Zc:  [1.0326 0.9862] Pi:  [0.2976 0.7024]\n",
      "Zc:  [1.0307 0.9864] Pi:  [0.3073 0.6927]\n",
      "Zc:  [1.0289 0.9866] Pi:  [0.3167 0.6833]\n",
      "Zc:  [1.0273 0.9868] Pi:  [0.3259 0.6741]\n",
      "Zc:  [1.0257 0.9871] Pi:  [0.3348 0.6652]\n",
      "Zc:  [1.0243 0.9873] Pi:  [0.3434 0.6566]\n",
      "Zc:  [1.023  0.9875] Pi:  [0.3517 0.6483]\n",
      "Zc:  [1.0217 0.9878] Pi:  [0.3598 0.6402]\n",
      "Zc:  [1.0206 0.988 ] Pi:  [0.3676 0.6324]\n",
      "Zc:  [1.0195 0.9883] Pi:  [0.3752 0.6248]\n",
      "Zc:  [1.0185 0.9885] Pi:  [0.3825 0.6175]\n",
      "Zc:  [1.0175 0.9888] Pi:  [0.3896 0.6104]\n",
      "Zc:  [1.0166 0.9891] Pi:  [0.3964 0.6036]\n",
      "Zc:  [1.0158 0.9893] Pi:  [0.403 0.597]\n",
      "Zc:  [1.015  0.9896] Pi:  [0.4094 0.5906]\n",
      "Zc:  [1.0143 0.9899] Pi:  [0.4155 0.5845]\n",
      "Zc:  [1.0136 0.9901] Pi:  [0.4214 0.5786]\n",
      "Zc:  [1.0129 0.9904] Pi:  [0.4272 0.5728]\n",
      "Zc:  [1.0123 0.9906] Pi:  [0.4327 0.5673]\n",
      "Zc:  [1.0117 0.9909] Pi:  [0.438 0.562]\n",
      "Zc:  [1.0111 0.9911] Pi:  [0.4431 0.5569]\n",
      "Zc:  [1.0106 0.9914] Pi:  [0.4481 0.5519]\n",
      "Zc:  [1.0101 0.9916] Pi:  [0.4528 0.5472]\n",
      "Zc:  [1.0096 0.9919] Pi:  [0.4574 0.5426]\n",
      "Zc:  [1.0092 0.9921] Pi:  [0.4618 0.5382]\n",
      "Zc:  [1.0088 0.9923] Pi:  [0.466 0.534]\n",
      "Zc:  [1.0084 0.9926] Pi:  [0.4701 0.5299]\n",
      "Zc:  [1.008  0.9928] Pi:  [0.4741 0.5259]\n",
      "Zc:  [1.0076 0.993 ] Pi:  [0.4779 0.5221]\n",
      "Zc:  [1.0073 0.9932] Pi:  [0.4815 0.5185]\n",
      "Zc:  [1.0069 0.9935] Pi:  [0.485 0.515]\n",
      "Zc:  [1.0066 0.9937] Pi:  [0.4884 0.5116]\n",
      "Zc:  [1.0063 0.9939] Pi:  [0.4916 0.5084]\n",
      "Zc:  [1.0061 0.9941] Pi:  [0.4947 0.5053]\n",
      "Zc:  [1.0058 0.9943] Pi:  [0.4977 0.5023]\n",
      "Zc:  [1.0055 0.9945] Pi:  [0.5006 0.4994]\n",
      "Zc:  [1.0053 0.9946] Pi:  [0.5034 0.4966]\n",
      "Zc:  [1.0051 0.9948] Pi:  [0.506 0.494]\n",
      "Zc:  [1.0048 0.995 ] Pi:  [0.5086 0.4914]\n",
      "Zc:  [1.0046 0.9952] Pi:  [0.511 0.489]\n",
      "Zc:  [1.0044 0.9953] Pi:  [0.5134 0.4866]\n",
      "Zc:  [1.0042 0.9955] Pi:  [0.5157 0.4843]\n",
      "Zc:  [1.004  0.9957] Pi:  [0.5179 0.4821]\n",
      "Zc:  [1.0039 0.9958] Pi:  [0.52 0.48]\n",
      "Zc:  [1.0037 0.996 ] Pi:  [0.522 0.478]\n",
      "Zc:  [1.0035 0.9961] Pi:  [0.5239 0.4761]\n",
      "Zc:  [1.0034 0.9962] Pi:  [0.5258 0.4742]\n",
      "Zc:  [1.0032 0.9964] Pi:  [0.5275 0.4725]\n",
      "Zc:  [1.0031 0.9965] Pi:  [0.5293 0.4707]\n",
      "Zc:  [1.003  0.9966] Pi:  [0.5309 0.4691]\n",
      "Zc:  [1.0029 0.9968] Pi:  [0.5325 0.4675]\n",
      "Zc:  [1.0027 0.9969] Pi:  [0.534 0.466]\n",
      "Zc:  [1.0026 0.997 ] Pi:  [0.5355 0.4645]\n",
      "Zc:  [1.0025 0.9971] Pi:  [0.5369 0.4631]\n",
      "Zc:  [1.0024 0.9972] Pi:  [0.5382 0.4618]\n",
      "Zc:  [1.0023 0.9973] Pi:  [0.5395 0.4605]\n",
      "Zc:  [1.0022 0.9974] Pi:  [0.5407 0.4593]\n",
      "Zc:  [1.0021 0.9975] Pi:  [0.5419 0.4581]\n",
      "Zc:  [1.002  0.9976] Pi:  [0.5431 0.4569]\n",
      "Zc:  [1.0019 0.9977] Pi:  [0.5442 0.4558]\n",
      "Zc:  [1.0019 0.9978] Pi:  [0.5452 0.4548]\n",
      "Zc:  [1.0018 0.9979] Pi:  [0.5462 0.4538]\n",
      "Zc:  [1.0017 0.9979] Pi:  [0.5472 0.4528]\n",
      "Zc:  [1.0016 0.998 ] Pi:  [0.5481 0.4519]\n",
      "Zc:  [1.0016 0.9981] Pi:  [0.549 0.451]\n",
      "Zc:  [1.0015 0.9982] Pi:  [0.5499 0.4501]\n",
      "Zc:  [1.0014 0.9982] Pi:  [0.5507 0.4493]\n"
     ]
    }
   ],
   "source": [
    "# number of iterations\n",
    "iteration = 100 \n",
    "loss = np.zeros(iteration)\n",
    "pis = np.zeros(iteration)\n",
    "# Zc is the partition function vector\n",
    "for itts in range(iteration):\n",
    "    # compute Z_c and E_{q_c}[x]\n",
    "    Zc = np.zeros(m)\n",
    "    Zcx = np.zeros((m, n))\n",
    "    for c in range(m):\n",
    "        for i in range(samples):\n",
    "            x = data[i]\n",
    "            Zcx[c] += np.multiply(x, (gaussian(x, Mu[c], n) / gmm(Pi, Mu, x, m, n)))\n",
    "            Zc[c] += (gaussian(x, Mu[c], n) / gmm(Pi, Mu, x, m, n))\n",
    "    Zc /= samples\n",
    "    Zcx /= samples\n",
    "    # update parameters\n",
    "    print(\"Zc: \", Zc, \"Pi: \", Pi)\n",
    "    for _ in range(m):\n",
    "        Pi[_] *= Zc[_]\n",
    "        Mu[_] = Zcx[_] / Zc[_]\n",
    "    pis[itts] = Pi[0]\n",
    "    cross_entropy = 0.0\n",
    "    for i in range(samples):\n",
    "        x = data[i]\n",
    "        cross_entropy += -np.log(gmm(Pi, Mu, x, m, n))\n",
    "    cross_entropy /= samples\n",
    "    loss[itts] = cross_entropy"
   ]
  },
  {
   "cell_type": "code",
   "execution_count": 153,
   "metadata": {
    "scrolled": true
   },
   "outputs": [
    {
     "data": {
      "image/png": "[encoded data removed]",
      "text/plain": [
       "<Figure size 432x288 with 1 Axes>"
      ]
     },
     "metadata": {
      "needs_background": "light"
     },
     "output_type": "display_data"
    },
    {
     "data": {
      "image/png": "[encoded data removed]",
      "text/plain": [
       "<Figure size 432x288 with 1 Axes>"
      ]
     },
     "metadata": {
      "needs_background": "light"
     },
     "output_type": "display_data"
    }
   ],
   "source": [
    "import matplotlib.pyplot as plt\n",
    "plt.plot(loss)\n",
    "plt.show()\n",
    "plt.plot(pis)\n",
    "plt.show()## EM algorithm"
   ]
  },
  {
   "cell_type": "markdown",
   "metadata": {},
   "source": [
    "## GD algorithm"
   ]
  },
  {
   "cell_type": "code",
   "execution_count": 122,
   "metadata": {},
   "outputs": [],
   "source": [
    "avg = np.mean(data, axis = 0)"
   ]
  },
  {
   "cell_type": "code",
   "execution_count": 164,
   "metadata": {
    "scrolled": false
   },
   "outputs": [
    {
     "name": "stdout",
     "output_type": "stream",
     "text": [
      "Zc:  [1.0065 1.    ] Pi:  [0.0003 0.9997]\n",
      "Zc:  [1.0064 1.    ] Pi:  [0.0004 0.9996]\n",
      "Zc:  [1.0064 1.    ] Pi:  [0.0006 0.9994]\n",
      "Zc:  [1.0063 1.    ] Pi:  [0.0007 0.9993]\n",
      "Zc:  [1.0063 1.    ] Pi:  [0.0009 0.9991]\n",
      "Zc:  [1.0062 1.    ] Pi:  [0.0011 0.9989]\n",
      "Zc:  [1.0062 1.    ] Pi:  [0.0012 0.9988]\n",
      "Zc:  [1.0061 1.    ] Pi:  [0.0014 0.9986]\n",
      "Zc:  [1.0061 1.    ] Pi:  [0.0015 0.9985]\n",
      "Zc:  [1.006 1.   ] Pi:  [0.0017 0.9983]\n",
      "Zc:  [1.006 1.   ] Pi:  [0.0018 0.9982]\n",
      "Zc:  [1.006 1.   ] Pi:  [0.002 0.998]\n",
      "Zc:  [1.0059 1.    ] Pi:  [0.0021 0.9979]\n",
      "Zc:  [1.0059 1.    ] Pi:  [0.0023 0.9977]\n",
      "Zc:  [1.0059 1.    ] Pi:  [0.0024 0.9976]\n",
      "Zc:  [1.0058 1.    ] Pi:  [0.0026 0.9974]\n",
      "Zc:  [1.0058 1.    ] Pi:  [0.0027 0.9973]\n",
      "Zc:  [1.0058 1.    ] Pi:  [0.0028 0.9972]\n",
      "Zc:  [1.0057 1.    ] Pi:  [0.003 0.997]\n",
      "Zc:  [1.0057 1.    ] Pi:  [0.0031 0.9969]\n",
      "Zc:  [1.0057 1.    ] Pi:  [0.0033 0.9967]\n",
      "Zc:  [1.0057 1.    ] Pi:  [0.0034 0.9966]\n",
      "Zc:  [1.0057 1.    ] Pi:  [0.0036 0.9964]\n",
      "Zc:  [1.0056 1.    ] Pi:  [0.0037 0.9963]\n",
      "Zc:  [1.0056 1.    ] Pi:  [0.0038 0.9962]\n",
      "Zc:  [1.0056 1.    ] Pi:  [0.004 0.996]\n",
      "Zc:  [1.0056 1.    ] Pi:  [0.0041 0.9959]\n",
      "Zc:  [1.0056 1.    ] Pi:  [0.0043 0.9957]\n",
      "Zc:  [1.0055 1.    ] Pi:  [0.0044 0.9956]\n",
      "Zc:  [1.0055 1.    ] Pi:  [0.0045 0.9955]\n",
      "Zc:  [1.0055 1.    ] Pi:  [0.0047 0.9953]\n",
      "Zc:  [1.0055 1.    ] Pi:  [0.0048 0.9952]\n",
      "Zc:  [1.0055 1.    ] Pi:  [0.0049 0.9951]\n",
      "Zc:  [1.0055 1.    ] Pi:  [0.0051 0.9949]\n",
      "Zc:  [1.0055 1.    ] Pi:  [0.0052 0.9948]\n",
      "Zc:  [1.0054 1.    ] Pi:  [0.0054 0.9946]\n",
      "Zc:  [1.0054 1.    ] Pi:  [0.0055 0.9945]\n",
      "Zc:  [1.0054 1.    ] Pi:  [0.0056 0.9944]\n",
      "Zc:  [1.0054 1.    ] Pi:  [0.0058 0.9942]\n",
      "Zc:  [1.0054 1.    ] Pi:  [0.0059 0.9941]\n",
      "Zc:  [1.0054 1.    ] Pi:  [0.006 0.994]\n",
      "Zc:  [1.0054 1.    ] Pi:  [0.0062 0.9938]\n",
      "Zc:  [1.0054 1.    ] Pi:  [0.0063 0.9937]\n",
      "Zc:  [1.0054 1.    ] Pi:  [0.0064 0.9936]\n",
      "Zc:  [1.0053 1.    ] Pi:  [0.0066 0.9934]\n",
      "Zc:  [1.0053 1.    ] Pi:  [0.0067 0.9933]\n",
      "Zc:  [1.0053 1.    ] Pi:  [0.0068 0.9932]\n",
      "Zc:  [1.0053 1.    ] Pi:  [0.007 0.993]\n",
      "Zc:  [1.0053 1.    ] Pi:  [0.0071 0.9929]\n",
      "Zc:  [1.0053 1.    ] Pi:  [0.0072 0.9928]\n",
      "Zc:  [1.0053 1.    ] Pi:  [0.0074 0.9926]\n",
      "Zc:  [1.0053 1.    ] Pi:  [0.0075 0.9925]\n",
      "Zc:  [1.0053 1.    ] Pi:  [0.0076 0.9924]\n",
      "Zc:  [1.0053 1.    ] Pi:  [0.0078 0.9922]\n",
      "Zc:  [1.0053 1.    ] Pi:  [0.0079 0.9921]\n",
      "Zc:  [1.0053 1.    ] Pi:  [0.008 0.992]\n",
      "Zc:  [1.0052 1.    ] Pi:  [0.0082 0.9918]\n",
      "Zc:  [1.0052 1.    ] Pi:  [0.0083 0.9917]\n",
      "Zc:  [1.0052 1.    ] Pi:  [0.0084 0.9916]\n",
      "Zc:  [1.0052 1.    ] Pi:  [0.0086 0.9914]\n",
      "Zc:  [1.0052 1.    ] Pi:  [0.0087 0.9913]\n",
      "Zc:  [1.0052 1.    ] Pi:  [0.0088 0.9912]\n",
      "Zc:  [1.0052 1.    ] Pi:  [0.009 0.991]\n",
      "Zc:  [1.0052 1.    ] Pi:  [0.0091 0.9909]\n",
      "Zc:  [1.0052 1.    ] Pi:  [0.0092 0.9908]\n",
      "Zc:  [1.0052 1.    ] Pi:  [0.0094 0.9906]\n",
      "Zc:  [1.0052 1.    ] Pi:  [0.0095 0.9905]\n",
      "Zc:  [1.0052 1.    ] Pi:  [0.0096 0.9904]\n",
      "Zc:  [1.0052 0.9999] Pi:  [0.0098 0.9902]\n",
      "Zc:  [1.0052 0.9999] Pi:  [0.0099 0.9901]\n",
      "Zc:  [1.0052 0.9999] Pi:  [0.01 0.99]\n",
      "Zc:  [1.0052 0.9999] Pi:  [0.0101 0.9899]\n",
      "Zc:  [1.0052 0.9999] Pi:  [0.0103 0.9897]\n",
      "Zc:  [1.0051 0.9999] Pi:  [0.0104 0.9896]\n",
      "Zc:  [1.0051 0.9999] Pi:  [0.0105 0.9895]\n",
      "Zc:  [1.0051 0.9999] Pi:  [0.0107 0.9893]\n",
      "Zc:  [1.0051 0.9999] Pi:  [0.0108 0.9892]\n",
      "Zc:  [1.0051 0.9999] Pi:  [0.0109 0.9891]\n",
      "Zc:  [1.0051 0.9999] Pi:  [0.0111 0.9889]\n",
      "Zc:  [1.0051 0.9999] Pi:  [0.0112 0.9888]\n",
      "Zc:  [1.0051 0.9999] Pi:  [0.0113 0.9887]\n",
      "Zc:  [1.0051 0.9999] Pi:  [0.0114 0.9886]\n",
      "Zc:  [1.0051 0.9999] Pi:  [0.0116 0.9884]\n",
      "Zc:  [1.0051 0.9999] Pi:  [0.0117 0.9883]\n",
      "Zc:  [1.0051 0.9999] Pi:  [0.0118 0.9882]\n",
      "Zc:  [1.0051 0.9999] Pi:  [0.012 0.988]\n",
      "Zc:  [1.0051 0.9999] Pi:  [0.0121 0.9879]\n",
      "Zc:  [1.0051 0.9999] Pi:  [0.0122 0.9878]\n",
      "Zc:  [1.0051 0.9999] Pi:  [0.0123 0.9877]\n",
      "Zc:  [1.0051 0.9999] Pi:  [0.0125 0.9875]\n",
      "Zc:  [1.0051 0.9999] Pi:  [0.0126 0.9874]\n",
      "Zc:  [1.0051 0.9999] Pi:  [0.0127 0.9873]\n",
      "Zc:  [1.0051 0.9999] Pi:  [0.0129 0.9871]\n",
      "Zc:  [1.0051 0.9999] Pi:  [0.013 0.987]\n",
      "Zc:  [1.005  0.9999] Pi:  [0.0131 0.9869]\n",
      "Zc:  [1.005  0.9999] Pi:  [0.0132 0.9868]\n",
      "Zc:  [1.005  0.9999] Pi:  [0.0134 0.9866]\n",
      "Zc:  [1.005  0.9999] Pi:  [0.0135 0.9865]\n",
      "Zc:  [1.005  0.9999] Pi:  [0.0136 0.9864]\n",
      "Zc:  [1.005  0.9999] Pi:  [0.0137 0.9863]\n"
     ]
    }
   ],
   "source": [
    "# go back to the same initialization\n",
    "Pi = np.copy(iPi)\n",
    "Mu = np.copy(iMu)\n",
    "Mu[1] = avg\n",
    "# set the step size\n",
    "ss = 0.05\n",
    "# number of iterations\n",
    "iteration = 100\n",
    "loss_gd = np.zeros(iteration)\n",
    "pis_gd = np.zeros(iteration)\n",
    "# Zc is the partition function vector\n",
    "for itts in range(iteration):\n",
    "    # compute Z_c and E_{q_c}[x]\n",
    "    # the computations for Zc, Zcx are the same\n",
    "    oldPi = np.copy(Pi)\n",
    "    oldMu = np.copy(Mu)\n",
    "    Zc = np.zeros(m)\n",
    "    Zcx = np.zeros((m, n))\n",
    "    for c in range(m):\n",
    "        for i in range(samples):\n",
    "            x = data[i]\n",
    "            Zcx[c] += np.multiply(x, (gaussian(x, Mu[c], n) / gmm(Pi, Mu, x, m, n)))\n",
    "            Zc[c] += (gaussian(x, Mu[c], n) / gmm(Pi, Mu, x, m, n))\n",
    "    Zc /= samples\n",
    "    Zcx /= samples\n",
    "    # the only difference is in updating parameters\n",
    "    for _ in range(m):\n",
    "        Pi[_] += ss * Zc[_]\n",
    "        Mu[_] += ss * oldPi[_] * ( (Zcx[_] / Zc[_]) - oldMu[_]) * Zc[_]\n",
    "    # do the projection, no need to project Mu now\n",
    "    Pi = nbm.project(Pi)\n",
    "    # print (use it for debugging)\n",
    "    print(\"Zc: \", Zc, \"Pi: \", Pi)\n",
    "    pis_gd[itts] = Pi[0]\n",
    "    cross_entropy = 0.0\n",
    "    for i in range(samples):\n",
    "        x = data[i]\n",
    "        cross_entropy += -np.log(gmm(Pi, Mu, x, m, n))\n",
    "    cross_entropy /= samples\n",
    "    loss_gd[itts] = cross_entropy"
   ]
  },
  {
   "cell_type": "markdown",
   "metadata": {},
   "source": [
    "## Comparing the escape rate for EM and GD"
   ]
  },
  {
   "cell_type": "code",
   "execution_count": 178,
   "metadata": {},
   "outputs": [
    {
     "data": {
      "image/png": "[encoded data removed]",
      "text/plain": [
       "<Figure size 432x288 with 2 Axes>"
      ]
     },
     "metadata": {
      "needs_background": "light"
     },
     "output_type": "display_data"
    }
   ],
   "source": [
    "plt.subplot(211)\n",
    "plt.xlabel(\"number of iters\")\n",
    "plt.ylabel(\"pi_1\")\n",
    "plt.plot(pis[:20], 'r')\n",
    "plt.subplot(212)\n",
    "plt.plot(pis_gd)\n",
    "plt.xlabel(\"number of iters\")\n",
    "plt.ylabel(\"pi_1\")\n",
    "plt.show()## EM algorithm"
   ]
  },
  {
   "cell_type": "code",
   "execution_count": 179,
   "metadata": {},
   "outputs": [
    {
     "data": {
      "text/plain": [
       "[<matplotlib.lines.Line2D at 0x114e711d0>]"
      ]
     },
     "execution_count": 179,
     "metadata": {},
     "output_type": "execute_result"
    },
    {
     "data": {
      "image/png": "[encoded data removed]",
      "text/plain": [
       "<Figure size 432x288 with 1 Axes>"
      ]
     },
     "metadata": {
      "needs_background": "light"
     },
     "output_type": "display_data"
    }
   ],
   "source": [
    "plt.plot(loss_gd)"
   ]
  },
  {
   "cell_type": "code",
   "execution_count": null,
   "metadata": {},
   "outputs": [],
   "source": []
  }
 ],
 "metadata": {
  "kernelspec": {
   "display_name": "Python 3",
   "language": "python",
   "name": "python3"
  },
  "language_info": {
   "codemirror_mode": {
    "name": "ipython",
    "version": 3
   },
   "file_extension": ".py",
   "mimetype": "text/x-python",
   "name": "python",
   "nbconvert_exporter": "python",
   "pygments_lexer": "ipython3",
   "version": "3.7.1"
  }
 },
 "nbformat": 4,
 "nbformat_minor": 2
}
