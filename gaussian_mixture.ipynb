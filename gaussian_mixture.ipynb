{
 "cells": [
  {
   "cell_type": "markdown",
   "metadata": {},
   "source": [
    "# Comparing EM with GD for Gaussian mixtures (initialized from a one-cluster point)"
   ]
  },
  {
   "cell_type": "code",
   "execution_count": 7,
   "metadata": {},
   "outputs": [],
   "source": [
    "## choosing parameters for mixture of gaussians\n",
    "import numpy as np\n",
    "m = n = 2\n",
    "gPi = np.random.rand(m)\n",
    "gPi = gPi / np.sum(gPi)\n",
    "gMu = np.random.rand(m, n)\n",
    "gMu[1] = -gMu[0]"
   ]
  },
  {
   "cell_type": "code",
   "execution_count": 8,
   "metadata": {},
   "outputs": [],
   "source": [
    "# choosing the number of samples\n",
    "samples = 10000\n",
    "data = np.zeros((samples, 2))\n",
    "# sampling from the generating distribution\n",
    "for _ in range(samples):\n",
    "    t = np.random.rand()\n",
    "    if t < gPi[0]:\n",
    "        data[_] = np.random.multivariate_normal(gMu[0], np.eye(n), 1)\n",
    "    else:\n",
    "        data[_] = np.random.multivariate_normal(gMu[1], np.eye(n), 1)"
   ]
  },
  {
   "cell_type": "code",
   "execution_count": 9,
   "metadata": {},
   "outputs": [],
   "source": [
    "# def a multivariate gaussian with identity covariance\n",
    "def gaussian(x, y, n):\n",
    "    result = 1.0\n",
    "    for _ in range(n):\n",
    "        result *= np.exp(-(x[_] - y[_])**2/2.0)\n",
    "    return result"
   ]
  },
  {
   "cell_type": "code",
   "execution_count": 4,
   "metadata": {},
   "outputs": [],
   "source": [
    "# def a mixture of Gaussians\n",
    "def gmm(pi, Mu, x, m, n):\n",
    "    result = 0.0\n",
    "    for _ in range(m):\n",
    "       result += pi[_] * gaussian(x, Mu[_], n)  \n",
    "    return result"
   ]
  },
  {
   "cell_type": "code",
   "execution_count": 10,
   "metadata": {},
   "outputs": [],
   "source": [
    "# initial parameters\n",
    "iPi = np.array([0.0001, 0.9999])\n",
    "iMu = (np.random.rand(m, n) * 2 - 1)\n",
    "# running parameters\n",
    "Pi = np.copy(iPi)\n",
    "Mu = np.copy(iMu)"
   ]
  },
  {
   "cell_type": "markdown",
   "metadata": {},
   "source": [
    "## EM algorithm"
   ]
  },
  {
   "cell_type": "code",
   "execution_count": 11,
   "metadata": {
    "scrolled": false
   },
   "outputs": [
    {
     "name": "stdout",
     "output_type": "stream",
     "text": [
      "Zc:  [2.46015361 0.99985397] Pi:  [1.000e-04 9.999e-01]\n",
      "Zc:  [1.08957991 0.99997796] Pi:  [2.46015361e-04 9.99753985e-01]\n",
      "Zc:  [1.39188941 0.99989492] Pi:  [2.68053396e-04 9.99731947e-01]\n",
      "Zc:  [2.65491601 0.99938232] Pi:  [3.73100683e-04 9.99626899e-01]\n",
      "Zc:  [3.42516745 0.99759537] Pi:  [9.90550975e-04 9.99009449e-01]\n",
      "Zc:  [2.3917192 0.9952621] Pi:  [0.0033928 0.9966072]\n",
      "Zc:  [1.99711406 0.99184259] Pi:  [0.00811463 0.99188537]\n",
      "Zc:  [1.7477534  0.98768241] Pi:  [0.01620585 0.98379415]\n",
      "Zc:  [1.56211932 0.98361453] Pi:  [0.02832382 0.97167618]\n",
      "Zc:  [1.42698177 0.98023354] Pi:  [0.04424519 0.95575481]\n",
      "Zc:  [1.33079955 0.97770675] Pi:  [0.06313708 0.93686292]\n",
      "Zc:  [1.26228887 0.97594018] Pi:  [0.0840228 0.9159772]\n",
      "Zc:  [1.21249678 0.9747884 ] Pi:  [0.10606104 0.89393896]\n",
      "Zc:  [1.17533128 0.97412516] Pi:  [0.12859867 0.87140133]\n",
      "Zc:  [1.14686633 0.97384914] Pi:  [0.15114604 0.84885396]\n",
      "Zc:  [1.12456552 0.97387942] Pi:  [0.1733443 0.8266557]\n",
      "Zc:  [1.10675134 0.97415135] Pi:  [0.19493703 0.80506297]\n",
      "Zc:  [1.09228288 0.97461313] Pi:  [0.21574682 0.78425318]\n",
      "Zc:  [1.08036311 0.97522306] Pi:  [0.23565655 0.76434345]\n",
      "Zc:  [1.0704216  0.97594736] Pi:  [0.25459465 0.74540535]\n",
      "Zc:  [1.06204121 0.97675843] Pi:  [0.27252361 0.72747639]\n",
      "Zc:  [1.05491099 0.97763347] Pi:  [0.28943131 0.71056869]\n",
      "Zc:  [1.04879512 0.97855354] Pi:  [0.30532427 0.69467573]\n",
      "Zc:  [1.043512   0.97950281] Pi:  [0.3202226 0.6797774]\n",
      "Zc:  [1.03891974 0.98046799] Pi:  [0.33415613 0.66584387]\n",
      "Zc:  [1.03490605 0.98143793] Pi:  [0.34716139 0.65283861]\n",
      "Zc:  [1.03138103 0.98240331] Pi:  [0.35927943 0.64072057]\n",
      "Zc:  [1.02827187 0.98335639] Pi:  [0.37055399 0.62944601]\n",
      "Zc:  [1.02551902 0.9842908 ] Pi:  [0.38103024 0.61896976]\n",
      "Zc:  [1.02307335 0.98520139] Pi:  [0.39075376 0.60924624]\n",
      "Zc:  [1.02089393 0.98608407] Pi:  [0.39976976 0.60023024]\n",
      "Zc:  [1.01894646 0.98693568] Pi:  [0.40812252 0.59187748]\n",
      "Zc:  [1.01720195 0.98775387] Pi:  [0.415855 0.584145]\n",
      "Zc:  [1.01563575 0.988537  ] Pi:  [0.42300851 0.57699149]\n",
      "Zc:  [1.01422678 0.98928403] Pi:  [0.42962257 0.57037743]\n",
      "Zc:  [1.01295692 0.98999446] Pi:  [0.43573472 0.56426528]\n",
      "Zc:  [1.01181051 0.99066819] Pi:  [0.4413805 0.5586195]\n",
      "Zc:  [1.01077396 0.99130552] Pi:  [0.44659343 0.55340657]\n",
      "Zc:  [1.00983542 0.99190703] Pi:  [0.45140501 0.54859499]\n",
      "Zc:  [1.00898454 0.99247356] Pi:  [0.45584477 0.54415523]\n",
      "Zc:  [1.0082122  0.99300611] Pi:  [0.45994032 0.54005968]\n",
      "Zc:  [1.00751039 0.99350585] Pi:  [0.46371744 0.53628256]\n",
      "Zc:  [1.00687205 0.99397406] Pi:  [0.46720014 0.53279986]\n",
      "Zc:  [1.00629089 0.99441208] Pi:  [0.47041077 0.52958923]\n",
      "Zc:  [1.00576134 0.99482133] Pi:  [0.47337007 0.52662993]\n",
      "Zc:  [1.00527844 0.99520321] Pi:  [0.47609731 0.52390269]\n",
      "Zc:  [1.00483777 0.99555916] Pi:  [0.47861036 0.52138964]\n",
      "Zc:  [1.00443536 0.99589061] Pi:  [0.48092577 0.51907423]\n",
      "Zc:  [1.00406767 0.99619894] Pi:  [0.48305885 0.51694115]\n",
      "Zc:  [1.00373152 0.99648552] Pi:  [0.48502378 0.51497622]\n",
      "Zc:  [1.00342403 0.99675167] Pi:  [0.48683365 0.51316635]\n",
      "Zc:  [1.00314263 0.99699867] Pi:  [0.48850059 0.51149941]\n",
      "Zc:  [1.00288499 0.99722775] Pi:  [0.49003576 0.50996424]\n",
      "Zc:  [1.00264901 0.99744007] Pi:  [0.49144951 0.50855049]\n",
      "Zc:  [1.00243278 0.99763675] Pi:  [0.49275136 0.50724864]\n",
      "Zc:  [1.00223459 0.99781884] Pi:  [0.49395012 0.50604988]\n",
      "Zc:  [1.00205286 0.99798735] Pi:  [0.4950539 0.5049461]\n",
      "Zc:  [1.00188619 0.99814323] Pi:  [0.49607017 0.50392983]\n",
      "Zc:  [1.00173328 0.99828735] Pi:  [0.49700586 0.50299414]\n",
      "Zc:  [1.00159297 0.99842056] Pi:  [0.49786731 0.50213269]\n",
      "Zc:  [1.00146418 0.99854365] Pi:  [0.4986604 0.5013396]\n",
      "Zc:  [1.00134594 0.99865734] Pi:  [0.49939052 0.50060948]\n",
      "Zc:  [1.00123737 0.99876232] Pi:  [0.50006267 0.49993733]\n",
      "Zc:  [1.00113766 0.99885924] Pi:  [0.50068144 0.49931856]\n",
      "Zc:  [1.00104607 0.99894869] Pi:  [0.50125104 0.49874896]\n",
      "Zc:  [1.00096192 0.99903123] Pi:  [0.50177538 0.49822462]\n",
      "Zc:  [1.0008846  0.99910737] Pi:  [0.50225805 0.49774195]\n",
      "Zc:  [1.00081355 0.9991776 ] Pi:  [0.50270235 0.49729765]\n",
      "Zc:  [1.00074825 0.99924238] Pi:  [0.50311132 0.49688868]\n",
      "Zc:  [1.00068823 0.9993021 ] Pi:  [0.50348778 0.49651222]\n",
      "Zc:  [1.00063306 0.99935716] Pi:  [0.50383429 0.49616571]\n",
      "Zc:  [1.00058233 0.99940791] Pi:  [0.50415325 0.49584675]\n",
      "Zc:  [1.00053569 0.99945469] Pi:  [0.50444684 0.49555316]\n",
      "Zc:  [1.00049281 0.9994978 ] Pi:  [0.50471706 0.49528294]\n",
      "Zc:  [1.00045337 0.99953753] Pi:  [0.50496579 0.49503421]\n",
      "Zc:  [1.00041711 0.99957413] Pi:  [0.50519473 0.49480527]\n",
      "Zc:  [1.00038376 0.99960786] Pi:  [0.50540545 0.49459455]\n",
      "Zc:  [1.00035308 0.99963892] Pi:  [0.50559941 0.49440059]\n",
      "Zc:  [1.00032486 0.99966754] Pi:  [0.50577792 0.49422208]\n",
      "Zc:  [1.00029891 0.9996939 ] Pi:  [0.50594223 0.49405777]\n",
      "Zc:  [1.00027503 0.99971818] Pi:  [0.50609346 0.49390654]\n",
      "Zc:  [1.00025307 0.99974054] Pi:  [0.50623266 0.49376734]\n",
      "Zc:  [1.00023287 0.99976113] Pi:  [0.50636077 0.49363923]\n",
      "Zc:  [1.00021428 0.99978009] Pi:  [0.50647868 0.49352132]\n",
      "Zc:  [1.00019718 0.99979756] Pi:  [0.50658721 0.49341279]\n",
      "Zc:  [1.00018145 0.99981364] Pi:  [0.5066871 0.4933129]\n",
      "Zc:  [1.00016697 0.99982844] Pi:  [0.50677904 0.49322096]\n",
      "Zc:  [1.00015365 0.99984207] Pi:  [0.50686365 0.49313635]\n",
      "Zc:  [1.00014139 0.99985462] Pi:  [0.50694153 0.49305847]\n",
      "Zc:  [1.00013012 0.99986618] Pi:  [0.50701321 0.49298679]\n",
      "Zc:  [1.00011974 0.99987682] Pi:  [0.50707918 0.49292082]\n",
      "Zc:  [1.00011019 0.99988661] Pi:  [0.5071399 0.4928601]\n",
      "Zc:  [1.00010141 0.99989563] Pi:  [0.50719579 0.49280421]\n",
      "Zc:  [1.00009332 0.99990393] Pi:  [0.50724722 0.49275278]\n",
      "Zc:  [1.00008589 0.99991157] Pi:  [0.50729456 0.49270544]\n",
      "Zc:  [1.00007904 0.99991861] Pi:  [0.50733813 0.49266187]\n",
      "Zc:  [1.00007274 0.99992508] Pi:  [0.50737823 0.49262177]\n",
      "Zc:  [1.00006694 0.99993104] Pi:  [0.50741513 0.49258487]\n",
      "Zc:  [1.00006161 0.99993653] Pi:  [0.5074491 0.4925509]\n",
      "Zc:  [1.0000567  0.99994158] Pi:  [0.50748036 0.49251964]\n"
     ]
    }
   ],
   "source": [
    "# number of iterations\n",
    "iteration = 100 \n",
    "loss = np.zeros(iteration)\n",
    "pis = np.zeros(iteration)\n",
    "# Zc is the partition function vector\n",
    "for itts in range(iteration):\n",
    "    # compute Z_c and E_{q_c}[x]\n",
    "    Zc = np.zeros(m)\n",
    "    Zcx = np.zeros((m, n))\n",
    "    for c in range(m):\n",
    "        for i in range(samples):\n",
    "            x = data[i]\n",
    "            Zcx[c] += np.multiply(x, (gaussian(x, Mu[c], n) / gmm(Pi, Mu, x, m, n)))\n",
    "            Zc[c] += (gaussian(x, Mu[c], n) / gmm(Pi, Mu, x, m, n))\n",
    "    Zc /= samples\n",
    "    Zcx /= samples\n",
    "    # update parameters\n",
    "    print(\"Zc: \", Zc, \"Pi: \", Pi)\n",
    "    for _ in range(m):\n",
    "        Pi[_] *= Zc[_]\n",
    "        Mu[_] = Zcx[_] / Zc[_]\n",
    "    pis[itts] = Pi[0]\n",
    "    cross_entropy = 0.0\n",
    "    for i in range(samples):\n",
    "        x = data[i]\n",
    "        cross_entropy += -np.log(gmm(Pi, Mu, x, m, n))\n",
    "    cross_entropy /= samples\n",
    "    loss[itts] = cross_entropy"
   ]
  },
  {
   "cell_type": "code",
   "execution_count": 14,
   "metadata": {
    "scrolled": true
   },
   "outputs": [
    {
     "data": {
      "image/png": "[encoded data removed]",
      "text/plain": [
       "<Figure size 432x288 with 1 Axes>"
      ]
     },
     "metadata": {
      "needs_background": "light"
     },
     "output_type": "display_data"
    },
    {
     "data": {
      "image/png": "[encoded data removed]",
      "text/plain": [
       "<Figure size 432x288 with 1 Axes>"
      ]
     },
     "metadata": {
      "needs_background": "light"
     },
     "output_type": "display_data"
    }
   ],
   "source": [
    "import matplotlib.pyplot as plt\n",
    "plt.plot(loss)\n",
    "plt.show()\n",
    "plt.plot(pis)\n",
    "plt.show()## EM algorithm"
   ]
  },
  {
   "cell_type": "markdown",
   "metadata": {},
   "source": [
    "## GD algorithm"
   ]
  },
  {
   "cell_type": "code",
   "execution_count": 15,
   "metadata": {},
   "outputs": [],
   "source": [
    "avg = np.mean(data, axis = 0)"
   ]
  },
  {
   "cell_type": "code",
   "execution_count": 21,
   "metadata": {
    "scrolled": false
   },
   "outputs": [
    {
     "name": "stdout",
     "output_type": "stream",
     "text": [
      "Zc:  [1.0805 1.    ] Pi:  [0.0005 0.9995]\n",
      "Zc:  [1.0802 1.    ] Pi:  [0.0009 0.9991]\n",
      "Zc:  [1.0799 0.9999] Pi:  [0.0013 0.9987]\n",
      "Zc:  [1.0795 0.9999] Pi:  [0.0017 0.9983]\n",
      "Zc:  [1.0792 0.9999] Pi:  [0.0021 0.9979]\n",
      "Zc:  [1.0789 0.9998] Pi:  [0.0025 0.9975]\n",
      "Zc:  [1.0786 0.9998] Pi:  [0.0029 0.9971]\n",
      "Zc:  [1.0782 0.9998] Pi:  [0.0033 0.9967]\n",
      "Zc:  [1.0779 0.9997] Pi:  [0.0037 0.9963]\n",
      "Zc:  [1.0776 0.9997] Pi:  [0.0041 0.9959]\n",
      "Zc:  [1.0773 0.9997] Pi:  [0.0044 0.9956]\n",
      "Zc:  [1.0771 0.9997] Pi:  [0.0048 0.9952]\n",
      "Zc:  [1.0768 0.9996] Pi:  [0.0052 0.9948]\n",
      "Zc:  [1.0765 0.9996] Pi:  [0.0056 0.9944]\n",
      "Zc:  [1.0762 0.9996] Pi:  [0.006 0.994]\n",
      "Zc:  [1.076  0.9995] Pi:  [0.0064 0.9936]\n",
      "Zc:  [1.0757 0.9995] Pi:  [0.0068 0.9932]\n",
      "Zc:  [1.0754 0.9995] Pi:  [0.0071 0.9929]\n",
      "Zc:  [1.0752 0.9995] Pi:  [0.0075 0.9925]\n",
      "Zc:  [1.0749 0.9994] Pi:  [0.0079 0.9921]\n",
      "Zc:  [1.0747 0.9994] Pi:  [0.0083 0.9917]\n",
      "Zc:  [1.0745 0.9994] Pi:  [0.0086 0.9914]\n",
      "Zc:  [1.0742 0.9994] Pi:  [0.009 0.991]\n",
      "Zc:  [1.074  0.9993] Pi:  [0.0094 0.9906]\n",
      "Zc:  [1.0738 0.9993] Pi:  [0.0098 0.9902]\n",
      "Zc:  [1.0736 0.9993] Pi:  [0.0101 0.9899]\n",
      "Zc:  [1.0733 0.9992] Pi:  [0.0105 0.9895]\n",
      "Zc:  [1.0731 0.9992] Pi:  [0.0109 0.9891]\n",
      "Zc:  [1.0729 0.9992] Pi:  [0.0112 0.9888]\n",
      "Zc:  [1.0727 0.9992] Pi:  [0.0116 0.9884]\n",
      "Zc:  [1.0725 0.9991] Pi:  [0.012 0.988]\n",
      "Zc:  [1.0723 0.9991] Pi:  [0.0123 0.9877]\n",
      "Zc:  [1.0721 0.9991] Pi:  [0.0127 0.9873]\n",
      "Zc:  [1.0719 0.9991] Pi:  [0.0131 0.9869]\n",
      "Zc:  [1.0718 0.999 ] Pi:  [0.0134 0.9866]\n",
      "Zc:  [1.0716 0.999 ] Pi:  [0.0138 0.9862]\n",
      "Zc:  [1.0714 0.999 ] Pi:  [0.0142 0.9858]\n",
      "Zc:  [1.0712 0.999 ] Pi:  [0.0145 0.9855]\n",
      "Zc:  [1.071 0.999] Pi:  [0.0149 0.9851]\n",
      "Zc:  [1.0709 0.9989] Pi:  [0.0152 0.9848]\n",
      "Zc:  [1.0707 0.9989] Pi:  [0.0156 0.9844]\n",
      "Zc:  [1.0706 0.9989] Pi:  [0.016 0.984]\n",
      "Zc:  [1.0704 0.9989] Pi:  [0.0163 0.9837]\n",
      "Zc:  [1.0702 0.9988] Pi:  [0.0167 0.9833]\n",
      "Zc:  [1.0701 0.9988] Pi:  [0.017 0.983]\n",
      "Zc:  [1.0699 0.9988] Pi:  [0.0174 0.9826]\n",
      "Zc:  [1.0698 0.9988] Pi:  [0.0177 0.9823]\n",
      "Zc:  [1.0696 0.9987] Pi:  [0.0181 0.9819]\n",
      "Zc:  [1.0695 0.9987] Pi:  [0.0184 0.9816]\n",
      "Zc:  [1.0694 0.9987] Pi:  [0.0188 0.9812]\n",
      "Zc:  [1.0692 0.9987] Pi:  [0.0192 0.9808]\n",
      "Zc:  [1.0691 0.9987] Pi:  [0.0195 0.9805]\n",
      "Zc:  [1.069  0.9986] Pi:  [0.0199 0.9801]\n",
      "Zc:  [1.0688 0.9986] Pi:  [0.0202 0.9798]\n",
      "Zc:  [1.0687 0.9986] Pi:  [0.0206 0.9794]\n",
      "Zc:  [1.0686 0.9986] Pi:  [0.0209 0.9791]\n",
      "Zc:  [1.0685 0.9985] Pi:  [0.0213 0.9787]\n",
      "Zc:  [1.0683 0.9985] Pi:  [0.0216 0.9784]\n",
      "Zc:  [1.0682 0.9985] Pi:  [0.022 0.978]\n",
      "Zc:  [1.0681 0.9985] Pi:  [0.0223 0.9777]\n",
      "Zc:  [1.068  0.9984] Pi:  [0.0227 0.9773]\n",
      "Zc:  [1.0679 0.9984] Pi:  [0.023 0.977]\n",
      "Zc:  [1.0678 0.9984] Pi:  [0.0233 0.9767]\n",
      "Zc:  [1.0677 0.9984] Pi:  [0.0237 0.9763]\n",
      "Zc:  [1.0676 0.9984] Pi:  [0.024 0.976]\n",
      "Zc:  [1.0675 0.9983] Pi:  [0.0244 0.9756]\n",
      "Zc:  [1.0674 0.9983] Pi:  [0.0247 0.9753]\n",
      "Zc:  [1.0673 0.9983] Pi:  [0.0251 0.9749]\n",
      "Zc:  [1.0672 0.9983] Pi:  [0.0254 0.9746]\n",
      "Zc:  [1.0671 0.9983] Pi:  [0.0258 0.9742]\n",
      "Zc:  [1.067  0.9982] Pi:  [0.0261 0.9739]\n",
      "Zc:  [1.0669 0.9982] Pi:  [0.0265 0.9735]\n",
      "Zc:  [1.0668 0.9982] Pi:  [0.0268 0.9732]\n",
      "Zc:  [1.0667 0.9982] Pi:  [0.0271 0.9729]\n",
      "Zc:  [1.0667 0.9981] Pi:  [0.0275 0.9725]\n",
      "Zc:  [1.0666 0.9981] Pi:  [0.0278 0.9722]\n",
      "Zc:  [1.0665 0.9981] Pi:  [0.0282 0.9718]\n",
      "Zc:  [1.0664 0.9981] Pi:  [0.0285 0.9715]\n",
      "Zc:  [1.0663 0.9981] Pi:  [0.0288 0.9712]\n",
      "Zc:  [1.0663 0.998 ] Pi:  [0.0292 0.9708]\n",
      "Zc:  [1.0662 0.998 ] Pi:  [0.0295 0.9705]\n",
      "Zc:  [1.0661 0.998 ] Pi:  [0.0299 0.9701]\n",
      "Zc:  [1.0661 0.998 ] Pi:  [0.0302 0.9698]\n",
      "Zc:  [1.066  0.9979] Pi:  [0.0306 0.9694]\n",
      "Zc:  [1.0659 0.9979] Pi:  [0.0309 0.9691]\n",
      "Zc:  [1.0659 0.9979] Pi:  [0.0312 0.9688]\n",
      "Zc:  [1.0658 0.9979] Pi:  [0.0316 0.9684]\n",
      "Zc:  [1.0657 0.9979] Pi:  [0.0319 0.9681]\n",
      "Zc:  [1.0657 0.9978] Pi:  [0.0322 0.9678]\n",
      "Zc:  [1.0656 0.9978] Pi:  [0.0326 0.9674]\n",
      "Zc:  [1.0656 0.9978] Pi:  [0.0329 0.9671]\n",
      "Zc:  [1.0655 0.9978] Pi:  [0.0333 0.9667]\n",
      "Zc:  [1.0654 0.9977] Pi:  [0.0336 0.9664]\n",
      "Zc:  [1.0654 0.9977] Pi:  [0.0339 0.9661]\n",
      "Zc:  [1.0653 0.9977] Pi:  [0.0343 0.9657]\n",
      "Zc:  [1.0653 0.9977] Pi:  [0.0346 0.9654]\n",
      "Zc:  [1.0652 0.9977] Pi:  [0.035 0.965]\n",
      "Zc:  [1.0652 0.9976] Pi:  [0.0353 0.9647]\n",
      "Zc:  [1.0651 0.9976] Pi:  [0.0356 0.9644]\n",
      "Zc:  [1.0651 0.9976] Pi:  [0.036 0.964]\n"
     ]
    }
   ],
   "source": [
    "import nbm\n",
    "# go back to the same initialization\n",
    "Pi = np.copy(iPi)\n",
    "Mu = np.copy(iMu)\n",
    "Mu[1] = avg\n",
    "# set the step size\n",
    "ss = 0.01\n",
    "# number of iterations\n",
    "iteration = 100\n",
    "loss_gd = np.zeros(iteration)\n",
    "pis_gd = np.zeros(iteration)\n",
    "# Zc is the partition function vector\n",
    "for itts in range(iteration):\n",
    "    # compute Z_c and E_{q_c}[x]\n",
    "    # the computations for Zc, Zcx are the same\n",
    "    oldPi = np.copy(Pi)\n",
    "    oldMu = np.copy(Mu)\n",
    "    Zc = np.zeros(m)\n",
    "    Zcx = np.zeros((m, n))\n",
    "    for c in range(m):\n",
    "        for i in range(samples):\n",
    "            x = data[i]\n",
    "            Zcx[c] += np.multiply(x, (gaussian(x, Mu[c], n) / gmm(Pi, Mu, x, m, n)))\n",
    "            Zc[c] += (gaussian(x, Mu[c], n) / gmm(Pi, Mu, x, m, n))\n",
    "    Zc /= samples\n",
    "    Zcx /= samples\n",
    "    # the only difference is in updating parameters\n",
    "    for _ in range(m):\n",
    "        Pi[_] += ss * Zc[_]\n",
    "        Mu[_] += ss * oldPi[_] * ( (Zcx[_] / Zc[_]) - oldMu[_]) * Zc[_]\n",
    "    # do the projection, no need to project Mu now\n",
    "    Pi = nbm.project(Pi)\n",
    "    # print (use it for debugging)\n",
    "    print(\"Zc: \", Zc, \"Pi: \", Pi)\n",
    "    pis_gd[itts] = Pi[0]\n",
    "    cross_entropy = 0.0\n",
    "    for i in range(samples):\n",
    "        x = data[i]\n",
    "        cross_entropy += -np.log(gmm(Pi, Mu, x, m, n))\n",
    "    cross_entropy /= samples\n",
    "    loss_gd[itts] = cross_entropy"
   ]
  },
  {
   "cell_type": "markdown",
   "metadata": {},
   "source": [
    "## Comparing the escape rate for EM and GD"
   ]
  },
  {
   "cell_type": "code",
   "execution_count": 29,
   "metadata": {},
   "outputs": [
    {
     "data": {
      "image/png": "[encoded data removed]",
      "text/plain": [
       "<Figure size 432x288 with 2 Axes>"
      ]
     },
     "metadata": {
      "needs_background": "light"
     },
     "output_type": "display_data"
    }
   ],
   "source": [
    "plt.subplot(211)\n",
    "plt.xlabel(\"number of iters\")\n",
    "plt.ylabel(\"pi_1\")\n",
    "plt.plot(pis[:15], 'r')\n",
    "plt.subplot(212)\n",
    "plt.plot(pis_gd)\n",
    "plt.xlabel(\"number of iters\")\n",
    "plt.ylabel(\"pi_1\")\n",
    "plt.savefig('em_vs_gd_gmm.png')\n",
    "plt.show()## EM algorithm"
   ]
  },
  {
   "cell_type": "code",
   "execution_count": 26,
   "metadata": {},
   "outputs": [
    {
     "data": {
      "text/plain": [
       "<Figure size 432x288 with 0 Axes>"
      ]
     },
     "metadata": {},
     "output_type": "display_data"
    }
   ],
   "source": [
    "plt.savefig('em_vs_gd_gmm.png')"
   ]
  },
  {
   "cell_type": "code",
   "execution_count": null,
   "metadata": {},
   "outputs": [],
   "source": []
  }
 ],
 "metadata": {
  "kernelspec": {
   "display_name": "Python 3",
   "language": "python",
   "name": "python3"
  },
  "language_info": {
   "codemirror_mode": {
    "name": "ipython",
    "version": 3
   },
   "file_extension": ".py",
   "mimetype": "text/x-python",
   "name": "python",
   "nbconvert_exporter": "python",
   "pygments_lexer": "ipython3",
   "version": "3.7.1"
  }
 },
 "nbformat": 4,
 "nbformat_minor": 2
}
