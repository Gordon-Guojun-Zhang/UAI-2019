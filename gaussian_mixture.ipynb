{
 "cells": [
  {
   "cell_type": "markdown",
   "metadata": {},
   "source": [
    "# Comparing EM with GD for Gaussian mixtures (initialized from a one-cluster point)"
   ]
  },
  {
   "cell_type": "code",
   "execution_count": 33,
   "metadata": {},
   "outputs": [],
   "source": [
    "## choosing parameters for mixture of gaussians\n",
    "import numpy as np\n",
    "m = n = 2\n",
    "gPi = np.random.rand(m)\n",
    "gPi = gPi / np.sum(gPi)\n",
    "gMu = np.random.rand(m, n)\n",
    "gMu[1] = -gMu[0]"
   ]
  },
  {
   "cell_type": "code",
   "execution_count": 34,
   "metadata": {},
   "outputs": [
    {
     "name": "stdout",
     "output_type": "stream",
     "text": [
      "gPi:  [0.8535 0.1465]\n",
      "gMu:  [[ 0.1366  0.7899]\n",
      " [-0.1366 -0.7899]]\n"
     ]
    }
   ],
   "source": [
    "print(\"gPi: \", gPi)\n",
    "print(\"gMu: \", gMu)"
   ]
  },
  {
   "cell_type": "code",
   "execution_count": 36,
   "metadata": {},
   "outputs": [],
   "source": [
    "# choosing the number of samples\n",
    "samples = 20000\n",
    "data = np.zeros((samples, 2))\n",
    "# sampling from the generating distribution\n",
    "for _ in range(samples):\n",
    "    t = np.random.rand()\n",
    "    if t < gPi[0]:\n",
    "        data[_] = np.random.multivariate_normal(gMu[0], np.eye(n), 1)\n",
    "    else:\n",
    "        data[_] = np.random.multivariate_normal(gMu[1], np.eye(n), 1)"
   ]
  },
  {
   "cell_type": "code",
   "execution_count": 37,
   "metadata": {},
   "outputs": [],
   "source": [
    "# def a multivariate gaussian with identity covariance\n",
    "def gaussian(x, y, n):\n",
    "    result = 1.0\n",
    "    for _ in range(n):\n",
    "        result *= np.exp(-(x[_] - y[_])**2/2.0)\n",
    "    return result"
   ]
  },
  {
   "cell_type": "code",
   "execution_count": 19,
   "metadata": {},
   "outputs": [],
   "source": [
    "# def a mixture of Gaussians\n",
    "def gmm(pi, Mu, x, m, n):\n",
    "    result = 0.0\n",
    "    for _ in range(m):\n",
    "       result += pi[_] * gaussian(x, Mu[_], n)  \n",
    "    return result"
   ]
  },
  {
   "cell_type": "code",
   "execution_count": 38,
   "metadata": {},
   "outputs": [],
   "source": [
    "# initial parameters\n",
    "iPi = np.array([0.0001, 0.9999])\n",
    "iMu = (np.random.rand(m, n) * 2 - 1)\n",
    "# running parameters\n",
    "Pi = np.copy(iPi)\n",
    "Mu = np.copy(iMu)"
   ]
  },
  {
   "cell_type": "markdown",
   "metadata": {},
   "source": [
    "## EM algorithm"
   ]
  },
  {
   "cell_type": "code",
   "execution_count": 39,
   "metadata": {
    "scrolled": false
   },
   "outputs": [
    {
     "name": "stdout",
     "output_type": "stream",
     "text": [
      "Zc:  [3.8279 0.9997] Pi:  [0.0001 0.9999]\n",
      "Zc:  [1.2207 0.9999] Pi:  [0.0004 0.9996]\n",
      "Zc:  [1.2779 0.9999] Pi:  [0.0005 0.9995]\n",
      "Zc:  [1.3317 0.9998] Pi:  [0.0006 0.9994]\n",
      "Zc:  [1.3649 0.9997] Pi:  [0.0008 0.9992]\n",
      "Zc:  [1.3615 0.9996] Pi:  [0.0011 0.9989]\n",
      "Zc:  [1.3274 0.9995] Pi:  [0.0015 0.9985]\n",
      "Zc:  [1.2852 0.9994] Pi:  [0.002 0.998]\n",
      "Zc:  [1.2492 0.9994] Pi:  [0.0025 0.9975]\n",
      "Zc:  [1.2223 0.9993] Pi:  [0.0031 0.9969]\n",
      "Zc:  [1.2021 0.9992] Pi:  [0.0038 0.9962]\n",
      "Zc:  [1.1863 0.9991] Pi:  [0.0046 0.9954]\n",
      "Zc:  [1.1732 0.999 ] Pi:  [0.0055 0.9945]\n",
      "Zc:  [1.162  0.9989] Pi:  [0.0064 0.9936]\n",
      "Zc:  [1.1521 0.9989] Pi:  [0.0075 0.9925]\n",
      "Zc:  [1.1432 0.9988] Pi:  [0.0086 0.9914]\n",
      "Zc:  [1.1352 0.9987] Pi:  [0.0099 0.9901]\n",
      "Zc:  [1.1278 0.9986] Pi:  [0.0112 0.9888]\n",
      "Zc:  [1.121  0.9985] Pi:  [0.0126 0.9874]\n",
      "Zc:  [1.1147 0.9984] Pi:  [0.0141 0.9859]\n",
      "Zc:  [1.1089 0.9983] Pi:  [0.0158 0.9842]\n",
      "Zc:  [1.1036 0.9982] Pi:  [0.0175 0.9825]\n",
      "Zc:  [1.0986 0.9981] Pi:  [0.0193 0.9807]\n",
      "Zc:  [1.094 0.998] Pi:  [0.0212 0.9788]\n",
      "Zc:  [1.0897 0.9979] Pi:  [0.0232 0.9768]\n",
      "Zc:  [1.0856 0.9978] Pi:  [0.0253 0.9747]\n",
      "Zc:  [1.0819 0.9977] Pi:  [0.0274 0.9726]\n",
      "Zc:  [1.0784 0.9976] Pi:  [0.0297 0.9703]\n",
      "Zc:  [1.0751 0.9975] Pi:  [0.032 0.968]\n",
      "Zc:  [1.072  0.9974] Pi:  [0.0344 0.9656]\n",
      "Zc:  [1.0691 0.9974] Pi:  [0.0369 0.9631]\n",
      "Zc:  [1.0664 0.9973] Pi:  [0.0394 0.9606]\n",
      "Zc:  [1.0639 0.9972] Pi:  [0.0421 0.9579]\n",
      "Zc:  [1.0615 0.9971] Pi:  [0.0448 0.9552]\n",
      "Zc:  [1.0593 0.997 ] Pi:  [0.0475 0.9525]\n",
      "Zc:  [1.0571 0.997 ] Pi:  [0.0503 0.9497]\n",
      "Zc:  [1.0551 0.9969] Pi:  [0.0532 0.9468]\n",
      "Zc:  [1.0532 0.9968] Pi:  [0.0561 0.9439]\n",
      "Zc:  [1.0514 0.9968] Pi:  [0.0591 0.9409]\n",
      "Zc:  [1.0498 0.9967] Pi:  [0.0622 0.9378]\n",
      "Zc:  [1.0482 0.9966] Pi:  [0.0652 0.9348]\n",
      "Zc:  [1.0466 0.9966] Pi:  [0.0684 0.9316]\n",
      "Zc:  [1.0452 0.9965] Pi:  [0.0716 0.9284]\n",
      "Zc:  [1.0438 0.9965] Pi:  [0.0748 0.9252]\n",
      "Zc:  [1.0425 0.9964] Pi:  [0.0781 0.9219]\n",
      "Zc:  [1.0413 0.9963] Pi:  [0.0814 0.9186]\n",
      "Zc:  [1.0401 0.9963] Pi:  [0.0848 0.9152]\n",
      "Zc:  [1.039  0.9962] Pi:  [0.0882 0.9118]\n",
      "Zc:  [1.0379 0.9962] Pi:  [0.0916 0.9084]\n",
      "Zc:  [1.0369 0.9961] Pi:  [0.0951 0.9049]\n",
      "Zc:  [1.0359 0.9961] Pi:  [0.0986 0.9014]\n",
      "Zc:  [1.035 0.996] Pi:  [0.1021 0.8979]\n",
      "Zc:  [1.0341 0.996 ] Pi:  [0.1057 0.8943]\n",
      "Zc:  [1.0332 0.9959] Pi:  [0.1093 0.8907]\n",
      "Zc:  [1.0324 0.9959] Pi:  [0.1129 0.8871]\n",
      "Zc:  [1.0316 0.9958] Pi:  [0.1166 0.8834]\n",
      "Zc:  [1.0309 0.9958] Pi:  [0.1203 0.8797]\n",
      "Zc:  [1.0301 0.9957] Pi:  [0.124 0.876]\n",
      "Zc:  [1.0294 0.9957] Pi:  [0.1277 0.8723]\n",
      "Zc:  [1.0288 0.9956] Pi:  [0.1315 0.8685]\n",
      "Zc:  [1.0281 0.9956] Pi:  [0.1353 0.8647]\n",
      "Zc:  [1.0275 0.9956] Pi:  [0.1391 0.8609]\n",
      "Zc:  [1.0269 0.9955] Pi:  [0.1429 0.8571]\n",
      "Zc:  [1.0263 0.9955] Pi:  [0.1467 0.8533]\n",
      "Zc:  [1.0258 0.9954] Pi:  [0.1506 0.8494]\n",
      "Zc:  [1.0252 0.9954] Pi:  [0.1545 0.8455]\n",
      "Zc:  [1.0247 0.9953] Pi:  [0.1584 0.8416]\n",
      "Zc:  [1.0242 0.9953] Pi:  [0.1623 0.8377]\n",
      "Zc:  [1.0238 0.9953] Pi:  [0.1662 0.8338]\n",
      "Zc:  [1.0233 0.9952] Pi:  [0.1702 0.8298]\n",
      "Zc:  [1.0228 0.9952] Pi:  [0.1741 0.8259]\n",
      "Zc:  [1.0224 0.9951] Pi:  [0.1781 0.8219]\n",
      "Zc:  [1.022  0.9951] Pi:  [0.1821 0.8179]\n",
      "Zc:  [1.0216 0.9951] Pi:  [0.1861 0.8139]\n",
      "Zc:  [1.0212 0.995 ] Pi:  [0.1901 0.8099]\n",
      "Zc:  [1.0208 0.995 ] Pi:  [0.1942 0.8058]\n",
      "Zc:  [1.0204 0.9949] Pi:  [0.1982 0.8018]\n",
      "Zc:  [1.0201 0.9949] Pi:  [0.2022 0.7978]\n",
      "Zc:  [1.0197 0.9949] Pi:  [0.2063 0.7937]\n",
      "Zc:  [1.0194 0.9948] Pi:  [0.2104 0.7896]\n",
      "Zc:  [1.0191 0.9948] Pi:  [0.2145 0.7855]\n",
      "Zc:  [1.0188 0.9948] Pi:  [0.2185 0.7815]\n",
      "Zc:  [1.0184 0.9947] Pi:  [0.2226 0.7774]\n",
      "Zc:  [1.0181 0.9947] Pi:  [0.2268 0.7732]\n",
      "Zc:  [1.0178 0.9946] Pi:  [0.2309 0.7691]\n",
      "Zc:  [1.0176 0.9946] Pi:  [0.235 0.765]\n",
      "Zc:  [1.0173 0.9946] Pi:  [0.2391 0.7609]\n",
      "Zc:  [1.017  0.9945] Pi:  [0.2432 0.7568]\n",
      "Zc:  [1.0168 0.9945] Pi:  [0.2474 0.7526]\n",
      "Zc:  [1.0165 0.9945] Pi:  [0.2515 0.7485]\n",
      "Zc:  [1.0163 0.9944] Pi:  [0.2557 0.7443]\n",
      "Zc:  [1.016  0.9944] Pi:  [0.2598 0.7402]\n",
      "Zc:  [1.0158 0.9943] Pi:  [0.264 0.736]\n",
      "Zc:  [1.0155 0.9943] Pi:  [0.2682 0.7318]\n",
      "Zc:  [1.0153 0.9943] Pi:  [0.2723 0.7277]\n",
      "Zc:  [1.0151 0.9942] Pi:  [0.2765 0.7235]\n",
      "Zc:  [1.0149 0.9942] Pi:  [0.2807 0.7193]\n",
      "Zc:  [1.0147 0.9942] Pi:  [0.2849 0.7151]\n",
      "Zc:  [1.0145 0.9941] Pi:  [0.289 0.711]\n",
      "Zc:  [1.0143 0.9941] Pi:  [0.2932 0.7068]\n"
     ]
    }
   ],
   "source": [
    "# number of iterations\n",
    "iteration = 100 \n",
    "loss = np.zeros(iteration)\n",
    "pis = np.zeros(iteration)\n",
    "# Zc is the partition function vector\n",
    "for itts in range(iteration):\n",
    "    # compute Z_c and E_{q_c}[x]\n",
    "    Zc = np.zeros(m)\n",
    "    Zcx = np.zeros((m, n))\n",
    "    for c in range(m):\n",
    "        for i in range(samples):\n",
    "            x = data[i]\n",
    "            Zcx[c] += np.multiply(x, (gaussian(x, Mu[c], n) / gmm(Pi, Mu, x, m, n)))\n",
    "            Zc[c] += (gaussian(x, Mu[c], n) / gmm(Pi, Mu, x, m, n))\n",
    "    Zc /= samples\n",
    "    Zcx /= samples\n",
    "    # update parameters\n",
    "    print(\"Zc: \", Zc, \"Pi: \", Pi)\n",
    "    for _ in range(m):\n",
    "        Pi[_] *= Zc[_]\n",
    "        Mu[_] = Zcx[_] / Zc[_]\n",
    "    pis[itts] = Pi[0]\n",
    "    cross_entropy = 0.0\n",
    "    for i in range(samples):\n",
    "        x = data[i]\n",
    "        cross_entropy += -np.log(gmm(Pi, Mu, x, m, n))\n",
    "    cross_entropy /= samples\n",
    "    loss[itts] = cross_entropy"
   ]
  },
  {
   "cell_type": "code",
   "execution_count": 40,
   "metadata": {
    "scrolled": true
   },
   "outputs": [
    {
     "data": {
      "image/png": "[encoded data removed]",
      "text/plain": [
       "<Figure size 432x288 with 1 Axes>"
      ]
     },
     "metadata": {
      "needs_background": "light"
     },
     "output_type": "display_data"
    },
    {
     "data": {
      "image/png": "[encoded data removed]",
      "text/plain": [
       "<Figure size 432x288 with 1 Axes>"
      ]
     },
     "metadata": {
      "needs_background": "light"
     },
     "output_type": "display_data"
    }
   ],
   "source": [
    "import matplotlib.pyplot as plt\n",
    "import matplotlib\n",
    "matplotlib.rcParams['pdf.fonttype'] = 42\n",
    "matplotlib.rcParams['ps.fonttype'] = 42\n",
    "plt.plot(loss)\n",
    "plt.show()\n",
    "plt.plot(pis)\n",
    "plt.show()## EM algorithm"
   ]
  },
  {
   "cell_type": "markdown",
   "metadata": {},
   "source": [
    "## GD algorithm"
   ]
  },
  {
   "cell_type": "code",
   "execution_count": 41,
   "metadata": {},
   "outputs": [],
   "source": [
    "avg = np.mean(data, axis = 0)"
   ]
  },
  {
   "cell_type": "code",
   "execution_count": 42,
   "metadata": {
    "scrolled": false
   },
   "outputs": [
    {
     "name": "stdout",
     "output_type": "stream",
     "text": [
      "Zc:  [1.0042 1.    ] Pi:  [0.0001 0.9999]\n",
      "Zc:  [1.0041 1.    ] Pi:  [0.0001 0.9999]\n",
      "Zc:  [1.0041 1.    ] Pi:  [0.0002 0.9998]\n",
      "Zc:  [1.0041 1.    ] Pi:  [0.0002 0.9998]\n",
      "Zc:  [1.0041 1.    ] Pi:  [0.0002 0.9998]\n",
      "Zc:  [1.004 1.   ] Pi:  [0.0002 0.9998]\n",
      "Zc:  [1.004 1.   ] Pi:  [0.0002 0.9998]\n",
      "Zc:  [1.004 1.   ] Pi:  [0.0003 0.9997]\n",
      "Zc:  [1.0039 1.    ] Pi:  [0.0003 0.9997]\n",
      "Zc:  [1.0039 1.    ] Pi:  [0.0003 0.9997]\n",
      "Zc:  [1.0039 1.    ] Pi:  [0.0003 0.9997]\n",
      "Zc:  [1.0039 1.    ] Pi:  [0.0003 0.9997]\n",
      "Zc:  [1.0038 1.    ] Pi:  [0.0004 0.9996]\n",
      "Zc:  [1.0038 1.    ] Pi:  [0.0004 0.9996]\n",
      "Zc:  [1.0038 1.    ] Pi:  [0.0004 0.9996]\n",
      "Zc:  [1.0038 1.    ] Pi:  [0.0004 0.9996]\n",
      "Zc:  [1.0037 1.    ] Pi:  [0.0004 0.9996]\n",
      "Zc:  [1.0037 1.    ] Pi:  [0.0005 0.9995]\n",
      "Zc:  [1.0037 1.    ] Pi:  [0.0005 0.9995]\n",
      "Zc:  [1.0037 1.    ] Pi:  [0.0005 0.9995]\n",
      "Zc:  [1.0036 1.    ] Pi:  [0.0005 0.9995]\n",
      "Zc:  [1.0036 1.    ] Pi:  [0.0005 0.9995]\n",
      "Zc:  [1.0036 1.    ] Pi:  [0.0005 0.9995]\n",
      "Zc:  [1.0036 1.    ] Pi:  [0.0006 0.9994]\n",
      "Zc:  [1.0036 1.    ] Pi:  [0.0006 0.9994]\n",
      "Zc:  [1.0035 1.    ] Pi:  [0.0006 0.9994]\n",
      "Zc:  [1.0035 1.    ] Pi:  [0.0006 0.9994]\n",
      "Zc:  [1.0035 1.    ] Pi:  [0.0006 0.9994]\n",
      "Zc:  [1.0035 1.    ] Pi:  [0.0007 0.9993]\n",
      "Zc:  [1.0035 1.    ] Pi:  [0.0007 0.9993]\n",
      "Zc:  [1.0034 1.    ] Pi:  [0.0007 0.9993]\n",
      "Zc:  [1.0034 1.    ] Pi:  [0.0007 0.9993]\n",
      "Zc:  [1.0034 1.    ] Pi:  [0.0007 0.9993]\n",
      "Zc:  [1.0034 1.    ] Pi:  [0.0007 0.9993]\n",
      "Zc:  [1.0034 1.    ] Pi:  [0.0008 0.9992]\n",
      "Zc:  [1.0033 1.    ] Pi:  [0.0008 0.9992]\n",
      "Zc:  [1.0033 1.    ] Pi:  [0.0008 0.9992]\n",
      "Zc:  [1.0033 1.    ] Pi:  [0.0008 0.9992]\n",
      "Zc:  [1.0033 1.    ] Pi:  [0.0008 0.9992]\n",
      "Zc:  [1.0033 1.    ] Pi:  [0.0008 0.9992]\n",
      "Zc:  [1.0032 1.    ] Pi:  [0.0009 0.9991]\n",
      "Zc:  [1.0032 1.    ] Pi:  [0.0009 0.9991]\n",
      "Zc:  [1.0032 1.    ] Pi:  [0.0009 0.9991]\n",
      "Zc:  [1.0032 1.    ] Pi:  [0.0009 0.9991]\n",
      "Zc:  [1.0032 1.    ] Pi:  [0.0009 0.9991]\n",
      "Zc:  [1.0032 1.    ] Pi:  [0.0009 0.9991]\n",
      "Zc:  [1.0031 1.    ] Pi:  [0.0009 0.9991]\n",
      "Zc:  [1.0031 1.    ] Pi:  [0.001 0.999]\n",
      "Zc:  [1.0031 1.    ] Pi:  [0.001 0.999]\n",
      "Zc:  [1.0031 1.    ] Pi:  [0.001 0.999]\n",
      "Zc:  [1.0031 1.    ] Pi:  [0.001 0.999]\n",
      "Zc:  [1.0031 1.    ] Pi:  [0.001 0.999]\n",
      "Zc:  [1.003 1.   ] Pi:  [0.001 0.999]\n",
      "Zc:  [1.003 1.   ] Pi:  [0.0011 0.9989]\n",
      "Zc:  [1.003 1.   ] Pi:  [0.0011 0.9989]\n",
      "Zc:  [1.003 1.   ] Pi:  [0.0011 0.9989]\n",
      "Zc:  [1.003 1.   ] Pi:  [0.0011 0.9989]\n",
      "Zc:  [1.003 1.   ] Pi:  [0.0011 0.9989]\n",
      "Zc:  [1.003 1.   ] Pi:  [0.0011 0.9989]\n",
      "Zc:  [1.0029 1.    ] Pi:  [0.0011 0.9989]\n",
      "Zc:  [1.0029 1.    ] Pi:  [0.0012 0.9988]\n",
      "Zc:  [1.0029 1.    ] Pi:  [0.0012 0.9988]\n",
      "Zc:  [1.0029 1.    ] Pi:  [0.0012 0.9988]\n",
      "Zc:  [1.0029 1.    ] Pi:  [0.0012 0.9988]\n",
      "Zc:  [1.0029 1.    ] Pi:  [0.0012 0.9988]\n",
      "Zc:  [1.0029 1.    ] Pi:  [0.0012 0.9988]\n",
      "Zc:  [1.0029 1.    ] Pi:  [0.0012 0.9988]\n",
      "Zc:  [1.0028 1.    ] Pi:  [0.0013 0.9987]\n",
      "Zc:  [1.0028 1.    ] Pi:  [0.0013 0.9987]\n",
      "Zc:  [1.0028 1.    ] Pi:  [0.0013 0.9987]\n",
      "Zc:  [1.0028 1.    ] Pi:  [0.0013 0.9987]\n",
      "Zc:  [1.0028 1.    ] Pi:  [0.0013 0.9987]\n",
      "Zc:  [1.0028 1.    ] Pi:  [0.0013 0.9987]\n",
      "Zc:  [1.0028 1.    ] Pi:  [0.0013 0.9987]\n",
      "Zc:  [1.0028 1.    ] Pi:  [0.0014 0.9986]\n",
      "Zc:  [1.0027 1.    ] Pi:  [0.0014 0.9986]\n",
      "Zc:  [1.0027 1.    ] Pi:  [0.0014 0.9986]\n",
      "Zc:  [1.0027 1.    ] Pi:  [0.0014 0.9986]\n",
      "Zc:  [1.0027 1.    ] Pi:  [0.0014 0.9986]\n",
      "Zc:  [1.0027 1.    ] Pi:  [0.0014 0.9986]\n",
      "Zc:  [1.0027 1.    ] Pi:  [0.0014 0.9986]\n",
      "Zc:  [1.0027 1.    ] Pi:  [0.0015 0.9985]\n",
      "Zc:  [1.0027 1.    ] Pi:  [0.0015 0.9985]\n",
      "Zc:  [1.0027 1.    ] Pi:  [0.0015 0.9985]\n",
      "Zc:  [1.0026 1.    ] Pi:  [0.0015 0.9985]\n",
      "Zc:  [1.0026 1.    ] Pi:  [0.0015 0.9985]\n",
      "Zc:  [1.0026 1.    ] Pi:  [0.0015 0.9985]\n",
      "Zc:  [1.0026 1.    ] Pi:  [0.0015 0.9985]\n",
      "Zc:  [1.0026 1.    ] Pi:  [0.0015 0.9985]\n",
      "Zc:  [1.0026 1.    ] Pi:  [0.0016 0.9984]\n",
      "Zc:  [1.0026 1.    ] Pi:  [0.0016 0.9984]\n",
      "Zc:  [1.0026 1.    ] Pi:  [0.0016 0.9984]\n",
      "Zc:  [1.0026 1.    ] Pi:  [0.0016 0.9984]\n",
      "Zc:  [1.0026 1.    ] Pi:  [0.0016 0.9984]\n",
      "Zc:  [1.0025 1.    ] Pi:  [0.0016 0.9984]\n",
      "Zc:  [1.0025 1.    ] Pi:  [0.0016 0.9984]\n",
      "Zc:  [1.0025 1.    ] Pi:  [0.0016 0.9984]\n",
      "Zc:  [1.0025 1.    ] Pi:  [0.0017 0.9983]\n",
      "Zc:  [1.0025 1.    ] Pi:  [0.0017 0.9983]\n",
      "Zc:  [1.0025 1.    ] Pi:  [0.0017 0.9983]\n"
     ]
    }
   ],
   "source": [
    "import nbm\n",
    "# go back to the same initialization\n",
    "Pi = np.copy(iPi)\n",
    "Mu = np.copy(iMu)\n",
    "Mu[1] = avg\n",
    "# set the step size\n",
    "ss = 0.01\n",
    "# number of iterations\n",
    "iteration = 100\n",
    "loss_gd = np.zeros(iteration)\n",
    "pis_gd = np.zeros(iteration)\n",
    "# Zc is the partition function vector\n",
    "for itts in range(iteration):\n",
    "    # compute Z_c and E_{q_c}[x]\n",
    "    # the computations for Zc, Zcx are the same\n",
    "    oldPi = np.copy(Pi)\n",
    "    oldMu = np.copy(Mu)\n",
    "    Zc = np.zeros(m)\n",
    "    Zcx = np.zeros((m, n))\n",
    "    for c in range(m):\n",
    "        for i in range(samples):\n",
    "            x = data[i]\n",
    "            Zcx[c] += np.multiply(x, (gaussian(x, Mu[c], n) / gmm(Pi, Mu, x, m, n)))\n",
    "            Zc[c] += (gaussian(x, Mu[c], n) / gmm(Pi, Mu, x, m, n))\n",
    "    Zc /= samples\n",
    "    Zcx /= samples\n",
    "    # the only difference is in updating parameters\n",
    "    for _ in range(m):\n",
    "        Pi[_] += ss * Zc[_]\n",
    "        Mu[_] += ss * oldPi[_] * ( (Zcx[_] / Zc[_]) - oldMu[_]) * Zc[_]\n",
    "    # do the projection, no need to project Mu now\n",
    "    Pi = nbm.project(Pi)\n",
    "    # print (use it for debugging)\n",
    "    print(\"Zc: \", Zc, \"Pi: \", Pi)\n",
    "    pis_gd[itts] = Pi[0]\n",
    "    cross_entropy = 0.0\n",
    "    for i in range(samples):\n",
    "        x = data[i]\n",
    "        cross_entropy += -np.log(gmm(Pi, Mu, x, m, n))\n",
    "    cross_entropy /= samples\n",
    "    loss_gd[itts] = cross_entropy"
   ]
  },
  {
   "cell_type": "markdown",
   "metadata": {},
   "source": [
    "## Comparing the escape rate for EM and GD"
   ]
  },
  {
   "cell_type": "code",
   "execution_count": 47,
   "metadata": {},
   "outputs": [
    {
     "data": {
      "image/png": "[encoded data removed]",
      "text/plain": [
       "<Figure size 432x288 with 2 Axes>"
      ]
     },
     "metadata": {
      "needs_background": "light"
     },
     "output_type": "display_data"
    }
   ],
   "source": [
    "plt.subplot(211)\n",
    "plt.xlabel(\"number of iters\")\n",
    "plt.ylabel(\"pi_1\")\n",
    "plt.plot(pis[:60], 'r')\n",
    "plt.subplot(212)\n",
    "plt.plot(pis_gd)\n",
    "plt.xlabel(\"number of iters\")\n",
    "plt.ylabel(\"pi_1\")\n",
    "plt.savefig('em_vs_gd_gmm.png')\n",
    "plt.show()## EM algorithm"
   ]
  },
  {
   "cell_type": "code",
   "execution_count": null,
   "metadata": {},
   "outputs": [],
   "source": []
  }
 ],
 "metadata": {
  "kernelspec": {
   "display_name": "Python 3",
   "language": "python",
   "name": "python3"
  },
  "language_info": {
   "codemirror_mode": {
    "name": "ipython",
    "version": 3
   },
   "file_extension": ".py",
   "mimetype": "text/x-python",
   "name": "python",
   "nbconvert_exporter": "python",
   "pygments_lexer": "ipython3",
   "version": "3.7.1"
  }
 },
 "nbformat": 4,
 "nbformat_minor": 2
}
