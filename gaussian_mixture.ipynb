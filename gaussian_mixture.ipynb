{
 "cells": [
  {
   "cell_type": "markdown",
   "metadata": {},
   "source": [
    "# Comparing EM with GD for Gaussian mixtures (initialized from a one-cluster point)"
   ]
  },
  {
   "cell_type": "code",
   "execution_count": 15,
   "metadata": {},
   "outputs": [],
   "source": [
    "## choosing parameters for mixture of gaussians\n",
    "import numpy as np\n",
    "m = n = 2\n",
    "gPi = np.random.rand(m)\n",
    "gPi = gPi / np.sum(gPi)\n",
    "gMu = np.random.rand(m, n)\n",
    "gMu[1] = -gMu[0]"
   ]
  },
  {
   "cell_type": "code",
   "execution_count": 16,
   "metadata": {},
   "outputs": [
    {
     "name": "stdout",
     "output_type": "stream",
     "text": [
      "gPi:  [0.63326719 0.36673281]\n",
      "gMu:  [[ 0.51034649  0.50851715]\n",
      " [-0.51034649 -0.50851715]]\n"
     ]
    }
   ],
   "source": [
    "print(\"gPi: \", gPi)\n",
    "print(\"gMu: \", gMu)"
   ]
  },
  {
   "cell_type": "code",
   "execution_count": 17,
   "metadata": {},
   "outputs": [],
   "source": [
    "# choosing the number of samples\n",
    "samples = 10000\n",
    "data = np.zeros((samples, 2))\n",
    "# sampling from the generating distribution\n",
    "for _ in range(samples):\n",
    "    t = np.random.rand()\n",
    "    if t < gPi[0]:\n",
    "        data[_] = np.random.multivariate_normal(gMu[0], np.eye(n), 1)\n",
    "    else:\n",
    "        data[_] = np.random.multivariate_normal(gMu[1], np.eye(n), 1)"
   ]
  },
  {
   "cell_type": "code",
   "execution_count": 18,
   "metadata": {},
   "outputs": [],
   "source": [
    "# def a multivariate gaussian with identity covariance\n",
    "def gaussian(x, y, n):\n",
    "    result = 1.0\n",
    "    for _ in range(n):\n",
    "        result *= np.exp(-(x[_] - y[_])**2/2.0)\n",
    "    return result"
   ]
  },
  {
   "cell_type": "code",
   "execution_count": 19,
   "metadata": {},
   "outputs": [],
   "source": [
    "# def a mixture of Gaussians\n",
    "def gmm(pi, Mu, x, m, n):\n",
    "    result = 0.0\n",
    "    for _ in range(m):\n",
    "       result += pi[_] * gaussian(x, Mu[_], n)  \n",
    "    return result"
   ]
  },
  {
   "cell_type": "code",
   "execution_count": 20,
   "metadata": {},
   "outputs": [],
   "source": [
    "# initial parameters\n",
    "iPi = np.array([0.0001, 0.9999])\n",
    "iMu = (np.random.rand(m, n) * 2 - 1)\n",
    "# running parameters\n",
    "Pi = np.copy(iPi)\n",
    "Mu = np.copy(iMu)"
   ]
  },
  {
   "cell_type": "markdown",
   "metadata": {},
   "source": [
    "## EM algorithm"
   ]
  },
  {
   "cell_type": "code",
   "execution_count": 21,
   "metadata": {
    "scrolled": false
   },
   "outputs": [
    {
     "name": "stdout",
     "output_type": "stream",
     "text": [
      "Zc:  [1.27210757 0.99997279] Pi:  [1.000e-04 9.999e-01]\n",
      "Zc:  [1.00682883 0.99999913] Pi:  [1.27210757e-04 9.99872789e-01]\n",
      "Zc:  [1.01351909 0.99999827] Pi:  [1.28079457e-04 9.99871921e-01]\n",
      "Zc:  [1.02908375 0.99999622] Pi:  [1.29810975e-04 9.99870189e-01]\n",
      "Zc:  [1.06596508 0.99999119] Pi:  [1.33586364e-04 9.99866414e-01]\n",
      "Zc:  [1.15533875 0.99997788] Pi:  [1.42398400e-04 9.99857602e-01]\n",
      "Zc:  [1.37828489 0.99993775] Pi:  [1.64518389e-04 9.99835482e-01]\n",
      "Zc:  [1.94466354 0.99978575] Pi:  [2.26753211e-04 9.99773247e-01]\n",
      "Zc:  [2.7866785 0.9992118] Pi:  [4.40958702e-04 9.99559041e-01]\n",
      "Zc:  [2.44685048 0.99821991] Pi:  [0.00122881 0.99877119]\n",
      "Zc:  [1.93102705 0.99719223] Pi:  [0.00300671 0.99699329]\n",
      "Zc:  [1.70112627 0.99590545] Pi:  [0.00580605 0.99419395]\n",
      "Zc:  [1.55536947 0.99446   ] Pi:  [0.00987682 0.99012318]\n",
      "Zc:  [1.4422923  0.99309945] Pi:  [0.0153621 0.9846379]\n",
      "Zc:  [1.35380684 0.9919832 ] Pi:  [0.02215664 0.97784336]\n",
      "Zc:  [1.28592954 0.99115809] Pi:  [0.02999582 0.97000418]\n",
      "Zc:  [1.23432814 0.99059875] Pi:  [0.03857251 0.96142749]\n",
      "Zc:  [1.19496405 0.9902535 ] Pi:  [0.04761113 0.95238887]\n",
      "Zc:  [1.16459363 0.99007077] Pi:  [0.05689359 0.94310641]\n",
      "Zc:  [1.14080915 0.99000825] Pi:  [0.06625791 0.93374209]\n",
      "Zc:  [1.12188437 0.99003372] Pi:  [0.07558763 0.92441237]\n",
      "Zc:  [1.10659342 0.99012326] Pi:  [0.08480058 0.91519942]\n",
      "Zc:  [1.09406199 0.99025917] Pi:  [0.09383977 0.90616023]\n",
      "Zc:  [1.08365936 0.99042829] Pi:  [0.10266652 0.89733348]\n",
      "Zc:  [1.0749239  0.99062082] Pi:  [0.11125554 0.88874446]\n",
      "Zc:  [1.06751244 0.99082938] Pi:  [0.11959123 0.88040877]\n",
      "Zc:  [1.06116598 0.99104844] Pi:  [0.12766513 0.87233487]\n",
      "Zc:  [1.05568619 0.9912738 ] Pi:  [0.13547389 0.86452611]\n",
      "Zc:  [1.05091915 0.99150233] Pi:  [0.14301792 0.85698208]\n",
      "Zc:  [1.04674393 0.99173164] Pi:  [0.15030027 0.84969973]\n",
      "Zc:  [1.04306443 0.99195994] Pi:  [0.15732589 0.84267411]\n",
      "Zc:  [1.03980347 0.99218591] Pi:  [0.16410104 0.83589896]\n",
      "Zc:  [1.0368985  0.99240855] Pi:  [0.17063283 0.82936717]\n",
      "Zc:  [1.03429835 0.99262716] Pi:  [0.17692893 0.82307107]\n",
      "Zc:  [1.03196086 0.99284121] Pi:  [0.1829973 0.8170027]\n",
      "Zc:  [1.02985098 0.99305034] Pi:  [0.18884605 0.81115395]\n",
      "Zc:  [1.02793942 0.99325433] Pi:  [0.19448329 0.80551671]\n",
      "Zc:  [1.0262015  0.99345302] Pi:  [0.19991704 0.80008296]\n",
      "Zc:  [1.02461634 0.99364635] Pi:  [0.20515517 0.79484483]\n",
      "Zc:  [1.02316614 0.99383429] Pi:  [0.21020534 0.78979466]\n",
      "Zc:  [1.02183566 0.99401687] Pi:  [0.21507499 0.78492501]\n",
      "Zc:  [1.02061181 0.99419416] Pi:  [0.21977129 0.78022871]\n",
      "Zc:  [1.01948323 0.99436623] Pi:  [0.22430117 0.77569883]\n",
      "Zc:  [1.01844011 0.99453317] Pi:  [0.22867129 0.77132871]\n",
      "Zc:  [1.01747385 0.9946951 ] Pi:  [0.23288801 0.76711199]\n",
      "Zc:  [1.01657695 0.99485214] Pi:  [0.23695746 0.76304254]\n",
      "Zc:  [1.01574282 0.99500442] Pi:  [0.24088549 0.75911451]\n",
      "Zc:  [1.01496563 0.99515206] Pi:  [0.24467771 0.75532229]\n",
      "Zc:  [1.01424026 0.99529519] Pi:  [0.24833947 0.75166053]\n",
      "Zc:  [1.01356212 0.99543395] Pi:  [0.25187588 0.74812412]\n",
      "Zc:  [1.01292716 0.99556847] Pi:  [0.25529185 0.74470815]\n",
      "Zc:  [1.01233175 0.99569887] Pi:  [0.25859205 0.74140795]\n",
      "Zc:  [1.01177265 0.99582528] Pi:  [0.26178094 0.73821906]\n",
      "Zc:  [1.01124694 0.99594784] Pi:  [0.2648628 0.7351372]\n",
      "Zc:  [1.01075201 0.99606665] Pi:  [0.2678417 0.7321583]\n",
      "Zc:  [1.01028549 0.99618184] Pi:  [0.27072153 0.72927847]\n",
      "Zc:  [1.00984525 0.99629352] Pi:  [0.27350604 0.72649396]\n",
      "Zc:  [1.00942935 0.99640181] Pi:  [0.27619877 0.72380123]\n",
      "Zc:  [1.00903604 0.99650681] Pi:  [0.27880315 0.72119685]\n",
      "Zc:  [1.00866371 0.99660864] Pi:  [0.28132242 0.71867758]\n",
      "Zc:  [1.00831092 0.99670738] Pi:  [0.28375972 0.71624028]\n",
      "Zc:  [1.00797633 0.99680315] Pi:  [0.28611802 0.71388198]\n",
      "Zc:  [1.00765873 0.99689604] Pi:  [0.2884002 0.7115998]\n",
      "Zc:  [1.00735701 0.99698613] Pi:  [0.29060898 0.70939102]\n",
      "Zc:  [1.00707014 0.99707352] Pi:  [0.29274699 0.70725301]\n",
      "Zc:  [1.00679719 0.99715829] Pi:  [0.29481675 0.70518325]\n",
      "Zc:  [1.00653728 0.99724053] Pi:  [0.29682068 0.70317932]\n",
      "Zc:  [1.00628963 0.99732032] Pi:  [0.29876108 0.70123892]\n",
      "Zc:  [1.00605349 0.99739773] Pi:  [0.30064018 0.69935982]\n",
      "Zc:  [1.00582818 0.99747284] Pi:  [0.3024601 0.6975399]\n",
      "Zc:  [1.00561308 0.99754573] Pi:  [0.30422289 0.69577711]\n",
      "Zc:  [1.0054076  0.99761645] Pi:  [0.30593052 0.69406948]\n",
      "Zc:  [1.00521119 0.99768508] Pi:  [0.30758487 0.69241513]\n",
      "Zc:  [1.00502335 0.99775169] Pi:  [0.30918775 0.69081225]\n",
      "Zc:  [1.00484362 0.99781633] Pi:  [0.31074091 0.68925909]\n",
      "Zc:  [1.00467155 0.99787908] Pi:  [0.31224602 0.68775398]\n",
      "Zc:  [1.00450674 0.99793997] Pi:  [0.3137047 0.6862953]\n",
      "Zc:  [1.00434881 0.99799909] Pi:  [0.31511848 0.68488152]\n",
      "Zc:  [1.00419739 0.99805647] Pi:  [0.31648887 0.68351113]\n",
      "Zc:  [1.00405216 0.99811217] Pi:  [0.3178173 0.6821827]\n",
      "Zc:  [1.00391281 0.99816624] Pi:  [0.31910515 0.68089485]\n",
      "Zc:  [1.00377905 0.99821873] Pi:  [0.32035375 0.67964625]\n",
      "Zc:  [1.00365059 0.9982697 ] Pi:  [0.32156438 0.67843562]\n",
      "Zc:  [1.00352718 0.99831918] Pi:  [0.32273828 0.67726172]\n",
      "Zc:  [1.00340859 0.99836722] Pi:  [0.32387663 0.67612337]\n",
      "Zc:  [1.00329458 0.99841386] Pi:  [0.3249806 0.6750194]\n",
      "Zc:  [1.00318493 0.99845916] Pi:  [0.32605127 0.67394873]\n",
      "Zc:  [1.00307945 0.99850313] Pi:  [0.32708972 0.67291028]\n",
      "Zc:  [1.00297795 0.99854584] Pi:  [0.32809698 0.67190302]\n",
      "Zc:  [1.00288024 0.99858731] Pi:  [0.32907403 0.67092597]\n",
      "Zc:  [1.00278616 0.99862758] Pi:  [0.33002184 0.66997816]\n",
      "Zc:  [1.00269554 0.99866668] Pi:  [0.33094134 0.66905866]\n",
      "Zc:  [1.00260824 0.99870466] Pi:  [0.3318334 0.6681666]\n",
      "Zc:  [1.00252411 0.99874155] Pi:  [0.3326989 0.6673011]\n",
      "Zc:  [1.00244301 0.99877737] Pi:  [0.33353867 0.66646133]\n",
      "Zc:  [1.00236482 0.99881216] Pi:  [0.33435351 0.66564649]\n",
      "Zc:  [1.0022894  0.99884594] Pi:  [0.33514419 0.66485581]\n",
      "Zc:  [1.00221666 0.99887876] Pi:  [0.33591148 0.66408852]\n",
      "Zc:  [1.00214647 0.99891063] Pi:  [0.33665608 0.66334392]\n",
      "Zc:  [1.00207874 0.99894159] Pi:  [0.3373787 0.6626213]\n"
     ]
    }
   ],
   "source": [
    "# number of iterations\n",
    "iteration = 100 \n",
    "loss = np.zeros(iteration)\n",
    "pis = np.zeros(iteration)\n",
    "# Zc is the partition function vector\n",
    "for itts in range(iteration):\n",
    "    # compute Z_c and E_{q_c}[x]\n",
    "    Zc = np.zeros(m)\n",
    "    Zcx = np.zeros((m, n))\n",
    "    for c in range(m):\n",
    "        for i in range(samples):\n",
    "            x = data[i]\n",
    "            Zcx[c] += np.multiply(x, (gaussian(x, Mu[c], n) / gmm(Pi, Mu, x, m, n)))\n",
    "            Zc[c] += (gaussian(x, Mu[c], n) / gmm(Pi, Mu, x, m, n))\n",
    "    Zc /= samples\n",
    "    Zcx /= samples\n",
    "    # update parameters\n",
    "    print(\"Zc: \", Zc, \"Pi: \", Pi)\n",
    "    for _ in range(m):\n",
    "        Pi[_] *= Zc[_]\n",
    "        Mu[_] = Zcx[_] / Zc[_]\n",
    "    pis[itts] = Pi[0]\n",
    "    cross_entropy = 0.0\n",
    "    for i in range(samples):\n",
    "        x = data[i]\n",
    "        cross_entropy += -np.log(gmm(Pi, Mu, x, m, n))\n",
    "    cross_entropy /= samples\n",
    "    loss[itts] = cross_entropy"
   ]
  },
  {
   "cell_type": "code",
   "execution_count": 23,
   "metadata": {
    "scrolled": true
   },
   "outputs": [
    {
     "data": {
      "image/png": "[encoded data removed]",
      "text/plain": [
       "<Figure size 432x288 with 1 Axes>"
      ]
     },
     "metadata": {
      "needs_background": "light"
     },
     "output_type": "display_data"
    },
    {
     "data": {
      "image/png": "[encoded data removed]",
      "text/plain": [
       "<Figure size 432x288 with 1 Axes>"
      ]
     },
     "metadata": {
      "needs_background": "light"
     },
     "output_type": "display_data"
    }
   ],
   "source": [
    "import matplotlib.pyplot as plt\n",
    "import matplotlib\n",
    "matplotlib.rcParams['pdf.fonttype'] = 42\n",
    "matplotlib.rcParams['ps.fonttype'] = 42\n",
    "plt.plot(loss)\n",
    "plt.show()\n",
    "plt.plot(pis)\n",
    "plt.show()## EM algorithm"
   ]
  },
  {
   "cell_type": "markdown",
   "metadata": {},
   "source": [
    "## GD algorithm"
   ]
  },
  {
   "cell_type": "code",
   "execution_count": 24,
   "metadata": {},
   "outputs": [],
   "source": [
    "avg = np.mean(data, axis = 0)"
   ]
  },
  {
   "cell_type": "code",
   "execution_count": 25,
   "metadata": {
    "scrolled": false
   },
   "outputs": [
    {
     "name": "stdout",
     "output_type": "stream",
     "text": [
      "Zc:  [1.2458 1.    ] Pi:  [0.0013 0.9987]\n",
      "Zc:  [1.2404 0.9997] Pi:  [0.0025 0.9975]\n",
      "Zc:  [1.2354 0.9994] Pi:  [0.0037 0.9963]\n",
      "Zc:  [1.2307 0.9991] Pi:  [0.0049 0.9951]\n",
      "Zc:  [1.2263 0.9989] Pi:  [0.006 0.994]\n",
      "Zc:  [1.222  0.9987] Pi:  [0.0071 0.9929]\n",
      "Zc:  [1.218  0.9984] Pi:  [0.0082 0.9918]\n",
      "Zc:  [1.2142 0.9982] Pi:  [0.0093 0.9907]\n",
      "Zc:  [1.2106 0.998 ] Pi:  [0.0104 0.9896]\n",
      "Zc:  [1.2071 0.9978] Pi:  [0.0114 0.9886]\n",
      "Zc:  [1.2038 0.9976] Pi:  [0.0124 0.9876]\n",
      "Zc:  [1.2006 0.9975] Pi:  [0.0135 0.9865]\n",
      "Zc:  [1.1975 0.9973] Pi:  [0.0145 0.9855]\n",
      "Zc:  [1.1946 0.9971] Pi:  [0.0154 0.9846]\n",
      "Zc:  [1.1917 0.997 ] Pi:  [0.0164 0.9836]\n",
      "Zc:  [1.189  0.9968] Pi:  [0.0174 0.9826]\n",
      "Zc:  [1.1864 0.9967] Pi:  [0.0183 0.9817]\n",
      "Zc:  [1.1839 0.9966] Pi:  [0.0193 0.9807]\n",
      "Zc:  [1.1815 0.9964] Pi:  [0.0202 0.9798]\n",
      "Zc:  [1.1791 0.9963] Pi:  [0.0211 0.9789]\n",
      "Zc:  [1.1768 0.9962] Pi:  [0.022 0.978]\n",
      "Zc:  [1.1746 0.9961] Pi:  [0.0229 0.9771]\n",
      "Zc:  [1.1725 0.996 ] Pi:  [0.0238 0.9762]\n",
      "Zc:  [1.1705 0.9958] Pi:  [0.0247 0.9753]\n",
      "Zc:  [1.1685 0.9957] Pi:  [0.0255 0.9745]\n",
      "Zc:  [1.1665 0.9956] Pi:  [0.0264 0.9736]\n",
      "Zc:  [1.1647 0.9955] Pi:  [0.0272 0.9728]\n",
      "Zc:  [1.1628 0.9954] Pi:  [0.0281 0.9719]\n",
      "Zc:  [1.1611 0.9954] Pi:  [0.0289 0.9711]\n",
      "Zc:  [1.1594 0.9953] Pi:  [0.0297 0.9703]\n",
      "Zc:  [1.1577 0.9952] Pi:  [0.0305 0.9695]\n",
      "Zc:  [1.1561 0.9951] Pi:  [0.0313 0.9687]\n",
      "Zc:  [1.1545 0.995 ] Pi:  [0.0321 0.9679]\n",
      "Zc:  [1.153  0.9949] Pi:  [0.0329 0.9671]\n",
      "Zc:  [1.1515 0.9948] Pi:  [0.0337 0.9663]\n",
      "Zc:  [1.15   0.9948] Pi:  [0.0345 0.9655]\n",
      "Zc:  [1.1486 0.9947] Pi:  [0.0352 0.9648]\n",
      "Zc:  [1.1472 0.9946] Pi:  [0.036 0.964]\n",
      "Zc:  [1.1459 0.9946] Pi:  [0.0368 0.9632]\n",
      "Zc:  [1.1445 0.9945] Pi:  [0.0375 0.9625]\n",
      "Zc:  [1.1433 0.9944] Pi:  [0.0383 0.9617]\n",
      "Zc:  [1.142  0.9944] Pi:  [0.039 0.961]\n",
      "Zc:  [1.1408 0.9943] Pi:  [0.0397 0.9603]\n",
      "Zc:  [1.1396 0.9942] Pi:  [0.0405 0.9595]\n",
      "Zc:  [1.1384 0.9942] Pi:  [0.0412 0.9588]\n",
      "Zc:  [1.1373 0.9941] Pi:  [0.0419 0.9581]\n",
      "Zc:  [1.1362 0.994 ] Pi:  [0.0426 0.9574]\n",
      "Zc:  [1.1351 0.994 ] Pi:  [0.0433 0.9567]\n",
      "Zc:  [1.134  0.9939] Pi:  [0.044 0.956]\n",
      "Zc:  [1.133  0.9939] Pi:  [0.0447 0.9553]\n",
      "Zc:  [1.132  0.9938] Pi:  [0.0454 0.9546]\n",
      "Zc:  [1.131  0.9938] Pi:  [0.0461 0.9539]\n",
      "Zc:  [1.13   0.9937] Pi:  [0.0468 0.9532]\n",
      "Zc:  [1.1291 0.9937] Pi:  [0.0474 0.9526]\n",
      "Zc:  [1.1281 0.9936] Pi:  [0.0481 0.9519]\n",
      "Zc:  [1.1272 0.9936] Pi:  [0.0488 0.9512]\n",
      "Zc:  [1.1263 0.9935] Pi:  [0.0494 0.9506]\n",
      "Zc:  [1.1254 0.9935] Pi:  [0.0501 0.9499]\n",
      "Zc:  [1.1246 0.9934] Pi:  [0.0508 0.9492]\n",
      "Zc:  [1.1237 0.9934] Pi:  [0.0514 0.9486]\n",
      "Zc:  [1.1229 0.9933] Pi:  [0.0521 0.9479]\n",
      "Zc:  [1.1221 0.9933] Pi:  [0.0527 0.9473]\n",
      "Zc:  [1.1213 0.9933] Pi:  [0.0533 0.9467]\n",
      "Zc:  [1.1205 0.9932] Pi:  [0.054 0.946]\n",
      "Zc:  [1.1197 0.9932] Pi:  [0.0546 0.9454]\n",
      "Zc:  [1.119  0.9931] Pi:  [0.0552 0.9448]\n",
      "Zc:  [1.1182 0.9931] Pi:  [0.0559 0.9441]\n",
      "Zc:  [1.1175 0.993 ] Pi:  [0.0565 0.9435]\n",
      "Zc:  [1.1168 0.993 ] Pi:  [0.0571 0.9429]\n",
      "Zc:  [1.1161 0.993 ] Pi:  [0.0577 0.9423]\n",
      "Zc:  [1.1154 0.9929] Pi:  [0.0583 0.9417]\n",
      "Zc:  [1.1147 0.9929] Pi:  [0.0589 0.9411]\n",
      "Zc:  [1.114  0.9929] Pi:  [0.0595 0.9405]\n",
      "Zc:  [1.1134 0.9928] Pi:  [0.0602 0.9398]\n",
      "Zc:  [1.1127 0.9928] Pi:  [0.0608 0.9392]\n",
      "Zc:  [1.1121 0.9927] Pi:  [0.0613 0.9387]\n",
      "Zc:  [1.1115 0.9927] Pi:  [0.0619 0.9381]\n",
      "Zc:  [1.1109 0.9927] Pi:  [0.0625 0.9375]\n",
      "Zc:  [1.1103 0.9926] Pi:  [0.0631 0.9369]\n",
      "Zc:  [1.1097 0.9926] Pi:  [0.0637 0.9363]\n",
      "Zc:  [1.1091 0.9926] Pi:  [0.0643 0.9357]\n",
      "Zc:  [1.1085 0.9925] Pi:  [0.0649 0.9351]\n",
      "Zc:  [1.1079 0.9925] Pi:  [0.0654 0.9346]\n",
      "Zc:  [1.1074 0.9925] Pi:  [0.066 0.934]\n",
      "Zc:  [1.1068 0.9924] Pi:  [0.0666 0.9334]\n",
      "Zc:  [1.1063 0.9924] Pi:  [0.0672 0.9328]\n",
      "Zc:  [1.1057 0.9924] Pi:  [0.0677 0.9323]\n",
      "Zc:  [1.1052 0.9924] Pi:  [0.0683 0.9317]\n",
      "Zc:  [1.1047 0.9923] Pi:  [0.0689 0.9311]\n",
      "Zc:  [1.1042 0.9923] Pi:  [0.0694 0.9306]\n",
      "Zc:  [1.1037 0.9923] Pi:  [0.07 0.93]\n",
      "Zc:  [1.1032 0.9922] Pi:  [0.0705 0.9295]\n",
      "Zc:  [1.1027 0.9922] Pi:  [0.0711 0.9289]\n",
      "Zc:  [1.1022 0.9922] Pi:  [0.0716 0.9284]\n",
      "Zc:  [1.1017 0.9922] Pi:  [0.0722 0.9278]\n",
      "Zc:  [1.1012 0.9921] Pi:  [0.0727 0.9273]\n",
      "Zc:  [1.1008 0.9921] Pi:  [0.0733 0.9267]\n",
      "Zc:  [1.1003 0.9921] Pi:  [0.0738 0.9262]\n",
      "Zc:  [1.0999 0.992 ] Pi:  [0.0743 0.9257]\n",
      "Zc:  [1.0994 0.992 ] Pi:  [0.0749 0.9251]\n"
     ]
    }
   ],
   "source": [
    "import nbm\n",
    "# go back to the same initialization\n",
    "Pi = np.copy(iPi)\n",
    "Mu = np.copy(iMu)\n",
    "Mu[1] = avg\n",
    "# set the step size\n",
    "ss = 0.01\n",
    "# number of iterations\n",
    "iteration = 100\n",
    "loss_gd = np.zeros(iteration)\n",
    "pis_gd = np.zeros(iteration)\n",
    "# Zc is the partition function vector\n",
    "for itts in range(iteration):\n",
    "    # compute Z_c and E_{q_c}[x]\n",
    "    # the computations for Zc, Zcx are the same\n",
    "    oldPi = np.copy(Pi)\n",
    "    oldMu = np.copy(Mu)\n",
    "    Zc = np.zeros(m)\n",
    "    Zcx = np.zeros((m, n))\n",
    "    for c in range(m):\n",
    "        for i in range(samples):\n",
    "            x = data[i]\n",
    "            Zcx[c] += np.multiply(x, (gaussian(x, Mu[c], n) / gmm(Pi, Mu, x, m, n)))\n",
    "            Zc[c] += (gaussian(x, Mu[c], n) / gmm(Pi, Mu, x, m, n))\n",
    "    Zc /= samples\n",
    "    Zcx /= samples\n",
    "    # the only difference is in updating parameters\n",
    "    for _ in range(m):\n",
    "        Pi[_] += ss * Zc[_]\n",
    "        Mu[_] += ss * oldPi[_] * ( (Zcx[_] / Zc[_]) - oldMu[_]) * Zc[_]\n",
    "    # do the projection, no need to project Mu now\n",
    "    Pi = nbm.project(Pi)\n",
    "    # print (use it for debugging)\n",
    "    print(\"Zc: \", Zc, \"Pi: \", Pi)\n",
    "    pis_gd[itts] = Pi[0]\n",
    "    cross_entropy = 0.0\n",
    "    for i in range(samples):\n",
    "        x = data[i]\n",
    "        cross_entropy += -np.log(gmm(Pi, Mu, x, m, n))\n",
    "    cross_entropy /= samples\n",
    "    loss_gd[itts] = cross_entropy"
   ]
  },
  {
   "cell_type": "markdown",
   "metadata": {},
   "source": [
    "## Comparing the escape rate for EM and GD"
   ]
  },
  {
   "cell_type": "code",
   "execution_count": 32,
   "metadata": {},
   "outputs": [
    {
     "data": {
      "image/png": "[encoded data removed]",
      "text/plain": [
       "<Figure size 432x288 with 2 Axes>"
      ]
     },
     "metadata": {
      "needs_background": "light"
     },
     "output_type": "display_data"
    }
   ],
   "source": [
    "plt.subplot(211)\n",
    "plt.xlabel(\"number of iters\")\n",
    "plt.ylabel(\"pi_1\")\n",
    "plt.plot(pis[:25], 'r')\n",
    "plt.subplot(212)\n",
    "plt.plot(pis_gd)\n",
    "plt.xlabel(\"number of iters\")\n",
    "plt.ylabel(\"pi_1\")\n",
    "plt.savefig('em_vs_gd_gmm.png')\n",
    "plt.show()## EM algorithm"
   ]
  }
 ],
 "metadata": {
  "kernelspec": {
   "display_name": "Python 3",
   "language": "python",
   "name": "python3"
  },
  "language_info": {
   "codemirror_mode": {
    "name": "ipython",
    "version": 3
   },
   "file_extension": ".py",
   "mimetype": "text/x-python",
   "name": "python",
   "nbconvert_exporter": "python",
   "pygments_lexer": "ipython3",
   "version": "3.7.1"
  }
 },
 "nbformat": 4,
 "nbformat_minor": 2
}
